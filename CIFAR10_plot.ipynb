{
 "cells": [
  {
   "cell_type": "code",
   "execution_count": 1,
   "id": "709f3803",
   "metadata": {},
   "outputs": [],
   "source": [
    "from time import time\n",
    "from matplotlib import pyplot as plt\n",
    "import numpy as np\n",
    "import pandas as pd\n",
    "import sklearn.metrics as sk_metrics\n",
    "from sklearn.model_selection import train_test_split\n",
    "from sklearn.preprocessing import MinMaxScaler\n",
    "from sklearn.preprocessing import OneHotEncoder\n",
    "from torchvision.datasets import MNIST, FashionMNIST, CIFAR10\n",
    "\n",
    "from nam.wrapper import NAMClassifier, MultiTaskNAMClassifier\n",
    "import random"
   ]
  },
  {
   "cell_type": "code",
   "execution_count": 2,
   "id": "4250365e",
   "metadata": {},
   "outputs": [],
   "source": [
    "def make_gender_mtl_data(X, y):\n",
    "    y_male = y.copy()\n",
    "    y_male[X['sex'] == 1] = np.nan\n",
    "    y_female = y.copy()\n",
    "    y_female[X['sex'] == 0] = np.nan\n",
    "    return pd.concat([y_female, y_male], axis=1)\n",
    "\n",
    "\n",
    "def filterClasses(X, y, classes: list):\n",
    "    X = X[np.isin(y[:, 0], classes)]\n",
    "    y = y[np.isin(y[:, 0], classes)]\n",
    "    return X, y\n",
    "\n",
    "\n",
    "def cood_encoding(x):\n",
    "    x = x / 255\n",
    "    indices = np.zeros((x.shape[1], x.shape[2], 2))\n",
    "    for i in range(x.shape[1]):\n",
    "        for j in range(x.shape[2]):\n",
    "            indices[i, j] = [i, j]\n",
    "    indices = np.repeat(indices[np.newaxis, :, :, :], x.shape[0], axis=0)\n",
    "    print(x.shape, indices.shape)\n",
    "    return np.concatenate((x, indices), axis=3).reshape(x.shape[0], x.shape[1] * x.shape[2], x.shape[3] + 2)\n",
    "    # return x.reshape(x.shape[0], x.shape[1] * x.shape[2], 1)"
   ]
  },
  {
   "cell_type": "code",
   "execution_count": 3,
   "id": "c712304f",
   "metadata": {},
   "outputs": [
    {
     "name": "stdout",
     "output_type": "stream",
     "text": [
      "Files already downloaded and verified\n",
      "(2000, 32, 32, 3) (2000, 32, 32, 2)\n",
      "(800, 32, 32, 3) (800, 32, 32, 2)\n",
      "(2000, 1024, 5) (800, 1024, 5)\n"
     ]
    }
   ],
   "source": [
    "random_state = 2016\n",
    "dataset = CIFAR10(root='nam/data/', download=True, train=True)\n",
    "# X_data = dataset.data.numpy()\n",
    "# y_data = dataset.targets.numpy().reshape(-1, 1)\n",
    "X_data = dataset.data\n",
    "y_data = np.array(dataset.targets).reshape(-1, 1)\n",
    "\n",
    "X_data, y_data = filterClasses(X_data, y_data, [0, 1])\n",
    "# y_data = np.max(1, y_data, axis=1)\n",
    "\n",
    "X_train, X_test, y_train, y_test = train_test_split(X_data, y_data, train_size=0.2, test_size=0.8,\n",
    "                                                        random_state=random_state, stratify=y_data)\n",
    "X_test, _, y_test, _ = train_test_split(X_test, y_test, train_size=0.1, test_size=0.9, random_state=random_state,\n",
    "                                            stratify=y_test)\n",
    "\n",
    "X_train = cood_encoding(X_train)\n",
    "X_test = cood_encoding(X_test)\n",
    "print(X_train.shape, X_test.shape)"
   ]
  },
  {
   "cell_type": "code",
   "execution_count": 4,
   "id": "5a223840",
   "metadata": {},
   "outputs": [
    {
     "name": "stdout",
     "output_type": "stream",
     "text": [
      "(2000, 1024, 5)\n",
      "(2000, 1)\n"
     ]
    }
   ],
   "source": [
    "model = NAMClassifier(\n",
    "    num_epochs=40,\n",
    "    num_learners=1,\n",
    "    lr=0.007539419328703001,\n",
    "    batch_size=64,\n",
    "    metric='auroc',\n",
    "    early_stop_mode='max',\n",
    "    monitor_loss=False,\n",
    "    n_jobs=10,\n",
    "    random_state=random_state,\n",
    "    device='cuda:0',\n",
    "    dropout=0.03215945869651085,\n",
    "    feature_dropout=0.03227589011640504,\n",
    "    pos_embed=2,\n",
    ")\n",
    "print(X_train.shape)\n",
    "print(y_train.shape)"
   ]
  },
  {
   "cell_type": "code",
   "execution_count": null,
   "id": "691efb11",
   "metadata": {},
   "outputs": [
    {
     "name": "stdout",
     "output_type": "stream",
     "text": [
      "Format converting and model initializing are done.\n"
     ]
    },
    {
     "name": "stderr",
     "output_type": "stream",
     "text": [
      "2022-12-14 18:24:52.358093: I tensorflow/core/platform/cpu_feature_guard.cc:193] This TensorFlow binary is optimized with oneAPI Deep Neural Network Library (oneDNN) to use the following CPU instructions in performance-critical operations:  SSE4.1 SSE4.2 AVX AVX2 FMA\n",
      "To enable them in other operations, rebuild TensorFlow with the appropriate compiler flags.\n"
     ]
    },
    {
     "data": {
      "application/vnd.jupyter.widget-view+json": {
       "model_id": "c2a100bc3fd5435cb9204f44e4954af6",
       "version_major": 2,
       "version_minor": 0
      },
      "text/plain": [
       "  0%|          | 0/40 [00:00<?, ?it/s]"
      ]
     },
     "metadata": {},
     "output_type": "display_data"
    }
   ],
   "source": [
    "s_time = time()\n",
    "model.fit(X_train, y_train)\n",
    "e_time = time()\n",
    "pred, feature, feature_after_att, attn_output_weights = model.predict_proba(X_test)\n",
    "\n",
    "\n",
    "print(sk_metrics.roc_auc_score(y_test, pred))\n",
    "print(\"Time cost: \" + str(e_time - s_time))"
   ]
  },
  {
   "cell_type": "code",
   "execution_count": null,
   "id": "078b894d",
   "metadata": {},
   "outputs": [],
   "source": [
    "pred, feature, feature_after_att, attn_output_weights = model.predict_proba(X_test)\n",
    "print(sk_metrics.roc_auc_score(y_test, pred))"
   ]
  },
  {
   "cell_type": "code",
   "execution_count": null,
   "id": "9f7694f3",
   "metadata": {},
   "outputs": [],
   "source": [
    "X_test = X_test.reshape((800, 32, 32, 5))[:, :, :, 0: 3]\n",
    "print(X_test.shape)\n",
    "y_test = y_test.squeeze()\n",
    "pred = pred.squeeze()\n",
    "print(y_test.shape)\n",
    "print(pred.shape)\n",
    "feature = feature.detach().numpy().squeeze()"
   ]
  },
  {
   "cell_type": "code",
   "execution_count": null,
   "id": "97da3973",
   "metadata": {},
   "outputs": [],
   "source": [
    "feature = feature.reshape(800, 32, 32)"
   ]
  },
  {
   "cell_type": "code",
   "execution_count": null,
   "id": "7636b389",
   "metadata": {},
   "outputs": [],
   "source": [
    "print(feature.shape)"
   ]
  },
  {
   "cell_type": "code",
   "execution_count": null,
   "id": "3922c3a5",
   "metadata": {},
   "outputs": [],
   "source": [
    "plt.imshow(feature[0], interpolation='nearest')\n",
    "plt.show()"
   ]
  },
  {
   "cell_type": "code",
   "execution_count": null,
   "id": "a0b80999",
   "metadata": {},
   "outputs": [],
   "source": [
    "attn_output_weights = attn_output_weights.detach().numpy().squeeze()\n",
    "print(attn_output_weights.shape)"
   ]
  },
  {
   "cell_type": "code",
   "execution_count": null,
   "id": "186fd770",
   "metadata": {},
   "outputs": [],
   "source": [
    "attn_output_weights = attn_output_weights.reshape((800, 1024, 32, 32))\n",
    "print(attn_output_weights.shape)"
   ]
  },
  {
   "cell_type": "code",
   "execution_count": null,
   "id": "e9537009",
   "metadata": {},
   "outputs": [],
   "source": [
    "plt.imshow(X_test[0], interpolation='nearest')\n",
    "plt.show()"
   ]
  },
  {
   "cell_type": "code",
   "execution_count": null,
   "id": "6979de67",
   "metadata": {},
   "outputs": [],
   "source": [
    "plt.imshow(attn_output_weights[0][75], interpolation='nearest')\n",
    "plt.show()"
   ]
  },
  {
   "cell_type": "code",
   "execution_count": null,
   "id": "a9cf7405",
   "metadata": {},
   "outputs": [],
   "source": [
    "plt.imshow(attn_output_weights[0][0], interpolation='nearest')\n",
    "plt.show()"
   ]
  },
  {
   "cell_type": "code",
   "execution_count": null,
   "id": "7e0dba01",
   "metadata": {},
   "outputs": [],
   "source": [
    "feature_after_att.shape"
   ]
  },
  {
   "cell_type": "code",
   "execution_count": null,
   "id": "53f4ddda",
   "metadata": {},
   "outputs": [],
   "source": [
    "feature_after_att = feature_after_att.reshape((800, 32, 32, 3))"
   ]
  },
  {
   "cell_type": "code",
   "execution_count": null,
   "id": "c9a9ea46",
   "metadata": {},
   "outputs": [],
   "source": [
    "feature_after_att = feature_after_att.detach().numpy()"
   ]
  },
  {
   "cell_type": "code",
   "execution_count": null,
   "id": "aa6692ab",
   "metadata": {},
   "outputs": [],
   "source": [
    "plt.imshow(X_test[1], interpolation='nearest')\n",
    "plt.show()"
   ]
  },
  {
   "cell_type": "code",
   "execution_count": null,
   "id": "397d3b96",
   "metadata": {},
   "outputs": [],
   "source": [
    "plt.imshow(feature_after_att[1], interpolation='nearest')\n",
    "plt.show()"
   ]
  },
  {
   "cell_type": "code",
   "execution_count": null,
   "id": "70ff7d3d",
   "metadata": {},
   "outputs": [],
   "source": [
    "plt.imshow(X_test[51], interpolation='nearest')\n",
    "plt.show()"
   ]
  },
  {
   "cell_type": "code",
   "execution_count": null,
   "id": "93986901",
   "metadata": {},
   "outputs": [],
   "source": [
    "plt.imshow(feature_after_att[51], interpolation='nearest')\n",
    "plt.show()"
   ]
  },
  {
   "cell_type": "code",
   "execution_count": null,
   "id": "b09947c8",
   "metadata": {},
   "outputs": [],
   "source": [
    "dict = {\"pred\": pred, \"feature\":feature, \"feature_after_att\": feature_after_att, \"attn_output_weights\":attn_output_weights, \"X\": X_test, \"gt\": y_test}"
   ]
  },
  {
   "cell_type": "code",
   "execution_count": null,
   "id": "b1c07d25",
   "metadata": {},
   "outputs": [],
   "source": [
    "print(attn_output_weights.shape)"
   ]
  },
  {
   "cell_type": "code",
   "execution_count": null,
   "id": "f3c873ea",
   "metadata": {},
   "outputs": [],
   "source": [
    "import csv\n",
    "with open('CIFAR_data.csv', 'w', newline='') as f:\n",
    "    writer = csv.DictWriter(f, fieldnames=dict.keys())\n",
    "    writer.writeheader()\n",
    "    writer.writerow(dict)"
   ]
  },
  {
   "cell_type": "code",
   "execution_count": null,
   "id": "f9b24ee8",
   "metadata": {},
   "outputs": [],
   "source": [
    "pred, feature, feature_after_att, attn_output_weights"
   ]
  },
  {
   "cell_type": "code",
   "execution_count": null,
   "id": "55e368fd",
   "metadata": {},
   "outputs": [],
   "source": [
    "print(pred.shape)\n",
    "print(feature.shape)\n",
    "print(feature_after_att.shape)\n",
    "print(attn_output_weights.shape)"
   ]
  },
  {
   "cell_type": "code",
   "execution_count": null,
   "id": "d016f34c",
   "metadata": {},
   "outputs": [],
   "source": []
  }
 ],
 "metadata": {
  "kernelspec": {
   "display_name": "Python 3 (ipykernel)",
   "language": "python",
   "name": "python3"
  },
  "language_info": {
   "codemirror_mode": {
    "name": "ipython",
    "version": 3
   },
   "file_extension": ".py",
   "mimetype": "text/x-python",
   "name": "python",
   "nbconvert_exporter": "python",
   "pygments_lexer": "ipython3",
   "version": "3.8.15"
  }
 },
 "nbformat": 4,
 "nbformat_minor": 5
}
