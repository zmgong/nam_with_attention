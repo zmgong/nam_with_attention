{
 "cells": [
  {
   "cell_type": "code",
   "execution_count": 1,
   "id": "2beb3c5c",
   "metadata": {
    "scrolled": false
   },
   "outputs": [],
   "source": [
    "import numpy as np\n",
    "import pandas as pd\n",
    "import sklearn.metrics as sk_metrics\n",
    "from sklearn.model_selection import train_test_split\n",
    "from sklearn.preprocessing import MinMaxScaler\n",
    "from sklearn.preprocessing import OneHotEncoder\n",
    "from torch.utils.data import random_split\n",
    "from sklearn.model_selection import train_test_split\n",
    "\n",
    "from torchvision.datasets import MNIST, FashionMNIST\n",
    "from matplotlib import pyplot as plt\n",
    "\n",
    "from nam.wrapper import NAMClassifier, MultiTaskNAMClassifier"
   ]
  },
  {
   "cell_type": "code",
   "execution_count": 2,
   "id": "73a4e22d",
   "metadata": {},
   "outputs": [],
   "source": [
    "random_state = 2016"
   ]
  },
  {
   "cell_type": "code",
   "execution_count": 3,
   "id": "720c4336",
   "metadata": {},
   "outputs": [],
   "source": [
    "\n",
    "dataset = pd.read_csv('nam/data/recid.data', delimiter=' ', header=None)\n",
    "dataset.columns = [\"age\", \"race\", \"sex\", \"priors_count\", \"length_of_stay\", \"c_charge_degree\", \"two_year_recid\"]"
   ]
  },
  {
   "cell_type": "code",
   "execution_count": 4,
   "id": "60f80968",
   "metadata": {},
   "outputs": [
    {
     "data": {
      "text/html": [
       "<div>\n",
       "<style scoped>\n",
       "    .dataframe tbody tr th:only-of-type {\n",
       "        vertical-align: middle;\n",
       "    }\n",
       "\n",
       "    .dataframe tbody tr th {\n",
       "        vertical-align: top;\n",
       "    }\n",
       "\n",
       "    .dataframe thead th {\n",
       "        text-align: right;\n",
       "    }\n",
       "</style>\n",
       "<table border=\"1\" class=\"dataframe\">\n",
       "  <thead>\n",
       "    <tr style=\"text-align: right;\">\n",
       "      <th></th>\n",
       "      <th>age</th>\n",
       "      <th>race</th>\n",
       "      <th>sex</th>\n",
       "      <th>priors_count</th>\n",
       "      <th>length_of_stay</th>\n",
       "      <th>c_charge_degree</th>\n",
       "      <th>two_year_recid</th>\n",
       "    </tr>\n",
       "  </thead>\n",
       "  <tbody>\n",
       "    <tr>\n",
       "      <th>0</th>\n",
       "      <td>69</td>\n",
       "      <td>6</td>\n",
       "      <td>2</td>\n",
       "      <td>0</td>\n",
       "      <td>1</td>\n",
       "      <td>1</td>\n",
       "      <td>0</td>\n",
       "    </tr>\n",
       "    <tr>\n",
       "      <th>1</th>\n",
       "      <td>34</td>\n",
       "      <td>1</td>\n",
       "      <td>2</td>\n",
       "      <td>0</td>\n",
       "      <td>10</td>\n",
       "      <td>1</td>\n",
       "      <td>1</td>\n",
       "    </tr>\n",
       "    <tr>\n",
       "      <th>2</th>\n",
       "      <td>24</td>\n",
       "      <td>1</td>\n",
       "      <td>2</td>\n",
       "      <td>4</td>\n",
       "      <td>1</td>\n",
       "      <td>1</td>\n",
       "      <td>1</td>\n",
       "    </tr>\n",
       "    <tr>\n",
       "      <th>3</th>\n",
       "      <td>44</td>\n",
       "      <td>6</td>\n",
       "      <td>2</td>\n",
       "      <td>0</td>\n",
       "      <td>1</td>\n",
       "      <td>2</td>\n",
       "      <td>0</td>\n",
       "    </tr>\n",
       "    <tr>\n",
       "      <th>4</th>\n",
       "      <td>41</td>\n",
       "      <td>3</td>\n",
       "      <td>2</td>\n",
       "      <td>14</td>\n",
       "      <td>6</td>\n",
       "      <td>1</td>\n",
       "      <td>1</td>\n",
       "    </tr>\n",
       "  </tbody>\n",
       "</table>\n",
       "</div>"
      ],
      "text/plain": [
       "   age  race  sex  priors_count  length_of_stay  c_charge_degree  \\\n",
       "0   69     6    2             0               1                1   \n",
       "1   34     1    2             0              10                1   \n",
       "2   24     1    2             4               1                1   \n",
       "3   44     6    2             0               1                2   \n",
       "4   41     3    2            14               6                1   \n",
       "\n",
       "   two_year_recid  \n",
       "0               0  \n",
       "1               1  \n",
       "2               1  \n",
       "3               0  \n",
       "4               1  "
      ]
     },
     "execution_count": 4,
     "metadata": {},
     "output_type": "execute_result"
    }
   ],
   "source": [
    "dataset.head()"
   ]
  },
  {
   "cell_type": "code",
   "execution_count": 5,
   "id": "943e2d1a",
   "metadata": {},
   "outputs": [],
   "source": [
    "binary = ['sex', 'c_charge_degree']\n",
    "other = ['age', 'race', 'priors_count', 'length_of_stay']"
   ]
  },
  {
   "cell_type": "code",
   "execution_count": 6,
   "id": "5afe546a",
   "metadata": {},
   "outputs": [],
   "source": [
    "scaler = MinMaxScaler((-1, 1))\n",
    "dataset[other] = scaler.fit_transform(dataset[other])\n",
    "dataset[binary] = dataset[binary] - 1"
   ]
  },
  {
   "cell_type": "code",
   "execution_count": 7,
   "id": "02cd69aa",
   "metadata": {},
   "outputs": [
    {
     "data": {
      "text/html": [
       "<div>\n",
       "<style scoped>\n",
       "    .dataframe tbody tr th:only-of-type {\n",
       "        vertical-align: middle;\n",
       "    }\n",
       "\n",
       "    .dataframe tbody tr th {\n",
       "        vertical-align: top;\n",
       "    }\n",
       "\n",
       "    .dataframe thead th {\n",
       "        text-align: right;\n",
       "    }\n",
       "</style>\n",
       "<table border=\"1\" class=\"dataframe\">\n",
       "  <thead>\n",
       "    <tr style=\"text-align: right;\">\n",
       "      <th></th>\n",
       "      <th>age</th>\n",
       "      <th>race</th>\n",
       "      <th>sex</th>\n",
       "      <th>priors_count</th>\n",
       "      <th>length_of_stay</th>\n",
       "      <th>c_charge_degree</th>\n",
       "      <th>two_year_recid</th>\n",
       "    </tr>\n",
       "  </thead>\n",
       "  <tbody>\n",
       "    <tr>\n",
       "      <th>0</th>\n",
       "      <td>0.307692</td>\n",
       "      <td>1.0</td>\n",
       "      <td>1</td>\n",
       "      <td>-1.000000</td>\n",
       "      <td>-0.9975</td>\n",
       "      <td>0</td>\n",
       "      <td>0</td>\n",
       "    </tr>\n",
       "    <tr>\n",
       "      <th>1</th>\n",
       "      <td>-0.589744</td>\n",
       "      <td>-1.0</td>\n",
       "      <td>1</td>\n",
       "      <td>-1.000000</td>\n",
       "      <td>-0.9750</td>\n",
       "      <td>0</td>\n",
       "      <td>1</td>\n",
       "    </tr>\n",
       "    <tr>\n",
       "      <th>2</th>\n",
       "      <td>-0.846154</td>\n",
       "      <td>-1.0</td>\n",
       "      <td>1</td>\n",
       "      <td>-0.789474</td>\n",
       "      <td>-0.9975</td>\n",
       "      <td>0</td>\n",
       "      <td>1</td>\n",
       "    </tr>\n",
       "    <tr>\n",
       "      <th>3</th>\n",
       "      <td>-0.333333</td>\n",
       "      <td>1.0</td>\n",
       "      <td>1</td>\n",
       "      <td>-1.000000</td>\n",
       "      <td>-0.9975</td>\n",
       "      <td>1</td>\n",
       "      <td>0</td>\n",
       "    </tr>\n",
       "    <tr>\n",
       "      <th>4</th>\n",
       "      <td>-0.410256</td>\n",
       "      <td>-0.2</td>\n",
       "      <td>1</td>\n",
       "      <td>-0.263158</td>\n",
       "      <td>-0.9850</td>\n",
       "      <td>0</td>\n",
       "      <td>1</td>\n",
       "    </tr>\n",
       "    <tr>\n",
       "      <th>...</th>\n",
       "      <td>...</td>\n",
       "      <td>...</td>\n",
       "      <td>...</td>\n",
       "      <td>...</td>\n",
       "      <td>...</td>\n",
       "      <td>...</td>\n",
       "      <td>...</td>\n",
       "    </tr>\n",
       "    <tr>\n",
       "      <th>6167</th>\n",
       "      <td>-0.871795</td>\n",
       "      <td>-1.0</td>\n",
       "      <td>1</td>\n",
       "      <td>-1.000000</td>\n",
       "      <td>-0.9950</td>\n",
       "      <td>0</td>\n",
       "      <td>0</td>\n",
       "    </tr>\n",
       "    <tr>\n",
       "      <th>6168</th>\n",
       "      <td>-0.871795</td>\n",
       "      <td>-1.0</td>\n",
       "      <td>1</td>\n",
       "      <td>-1.000000</td>\n",
       "      <td>-0.9950</td>\n",
       "      <td>0</td>\n",
       "      <td>0</td>\n",
       "    </tr>\n",
       "    <tr>\n",
       "      <th>6169</th>\n",
       "      <td>0.000000</td>\n",
       "      <td>1.0</td>\n",
       "      <td>1</td>\n",
       "      <td>-1.000000</td>\n",
       "      <td>-0.9975</td>\n",
       "      <td>0</td>\n",
       "      <td>0</td>\n",
       "    </tr>\n",
       "    <tr>\n",
       "      <th>6170</th>\n",
       "      <td>-0.615385</td>\n",
       "      <td>-1.0</td>\n",
       "      <td>0</td>\n",
       "      <td>-0.842105</td>\n",
       "      <td>-0.9975</td>\n",
       "      <td>1</td>\n",
       "      <td>0</td>\n",
       "    </tr>\n",
       "    <tr>\n",
       "      <th>6171</th>\n",
       "      <td>-0.871795</td>\n",
       "      <td>0.2</td>\n",
       "      <td>0</td>\n",
       "      <td>-0.894737</td>\n",
       "      <td>-0.9950</td>\n",
       "      <td>0</td>\n",
       "      <td>1</td>\n",
       "    </tr>\n",
       "  </tbody>\n",
       "</table>\n",
       "<p>6172 rows × 7 columns</p>\n",
       "</div>"
      ],
      "text/plain": [
       "           age  race  sex  priors_count  length_of_stay  c_charge_degree  \\\n",
       "0     0.307692   1.0    1     -1.000000         -0.9975                0   \n",
       "1    -0.589744  -1.0    1     -1.000000         -0.9750                0   \n",
       "2    -0.846154  -1.0    1     -0.789474         -0.9975                0   \n",
       "3    -0.333333   1.0    1     -1.000000         -0.9975                1   \n",
       "4    -0.410256  -0.2    1     -0.263158         -0.9850                0   \n",
       "...        ...   ...  ...           ...             ...              ...   \n",
       "6167 -0.871795  -1.0    1     -1.000000         -0.9950                0   \n",
       "6168 -0.871795  -1.0    1     -1.000000         -0.9950                0   \n",
       "6169  0.000000   1.0    1     -1.000000         -0.9975                0   \n",
       "6170 -0.615385  -1.0    0     -0.842105         -0.9975                1   \n",
       "6171 -0.871795   0.2    0     -0.894737         -0.9950                0   \n",
       "\n",
       "      two_year_recid  \n",
       "0                  0  \n",
       "1                  1  \n",
       "2                  1  \n",
       "3                  0  \n",
       "4                  1  \n",
       "...              ...  \n",
       "6167               0  \n",
       "6168               0  \n",
       "6169               0  \n",
       "6170               0  \n",
       "6171               1  \n",
       "\n",
       "[6172 rows x 7 columns]"
      ]
     },
     "execution_count": 7,
     "metadata": {},
     "output_type": "execute_result"
    }
   ],
   "source": [
    "dataset"
   ]
  },
  {
   "cell_type": "code",
   "execution_count": 8,
   "id": "2ac3ffc9",
   "metadata": {},
   "outputs": [
    {
     "data": {
      "text/plain": [
       "array([[ 0.30769231,  1.        ,  1.        , -1.        , -0.9975    ,\n",
       "         0.        ],\n",
       "       [-0.58974359, -1.        ,  1.        , -1.        , -0.975     ,\n",
       "         0.        ],\n",
       "       [-0.84615385, -1.        ,  1.        , -0.78947368, -0.9975    ,\n",
       "         0.        ],\n",
       "       ...,\n",
       "       [ 0.        ,  1.        ,  1.        , -1.        , -0.9975    ,\n",
       "         0.        ],\n",
       "       [-0.61538462, -1.        ,  0.        , -0.84210526, -0.9975    ,\n",
       "         1.        ],\n",
       "       [-0.87179487,  0.2       ,  0.        , -0.89473684, -0.995     ,\n",
       "         0.        ]])"
      ]
     },
     "execution_count": 8,
     "metadata": {},
     "output_type": "execute_result"
    }
   ],
   "source": [
    "X_data = dataset.drop(columns=['two_year_recid']).to_numpy()\n",
    "X_data"
   ]
  },
  {
   "cell_type": "code",
   "execution_count": 9,
   "id": "e20f2320",
   "metadata": {},
   "outputs": [
    {
     "data": {
      "text/plain": [
       "array([[0],\n",
       "       [1],\n",
       "       [1],\n",
       "       ...,\n",
       "       [0],\n",
       "       [0],\n",
       "       [1]])"
      ]
     },
     "execution_count": 9,
     "metadata": {},
     "output_type": "execute_result"
    }
   ],
   "source": [
    "y_data = dataset['two_year_recid'].to_numpy().reshape(-1, 1)\n",
    "y_data"
   ]
  },
  {
   "cell_type": "code",
   "execution_count": 10,
   "id": "e81d7274",
   "metadata": {},
   "outputs": [
    {
     "data": {
      "text/plain": [
       "(6172,)"
      ]
     },
     "execution_count": 10,
     "metadata": {},
     "output_type": "execute_result"
    }
   ],
   "source": [
    "np.zeros((X_data.shape[0],)).shape"
   ]
  },
  {
   "cell_type": "code",
   "execution_count": 11,
   "id": "34dc4f1b",
   "metadata": {},
   "outputs": [],
   "source": [
    "def onehot_pos_embedding(x):\n",
    "    onehot = np.zeros((6, 6))\n",
    "    for i in range(6):\n",
    "        onehot[i, i] = 1\n",
    "    onehot = np.repeat(onehot[np.newaxis, :, :], x.shape[0], axis=0)\n",
    "    return np.concatenate((x[:, :, np.newaxis], onehot), axis=2)"
   ]
  },
  {
   "cell_type": "code",
   "execution_count": 12,
   "id": "410e7286",
   "metadata": {},
   "outputs": [
    {
     "data": {
      "text/plain": [
       "(6172, 6, 7)"
      ]
     },
     "execution_count": 12,
     "metadata": {},
     "output_type": "execute_result"
    }
   ],
   "source": [
    "X_data = onehot_pos_embedding(X_data)\n",
    "X_data.shape"
   ]
  },
  {
   "cell_type": "code",
   "execution_count": 13,
   "id": "1ad08cc1",
   "metadata": {},
   "outputs": [],
   "source": [
    "X_train, X_test, y_train, y_test = train_test_split(X_data, y_data, train_size=0.8, test_size=0.2, random_state=random_state)"
   ]
  },
  {
   "cell_type": "code",
   "execution_count": 14,
   "id": "160197f6",
   "metadata": {},
   "outputs": [
    {
     "data": {
      "text/plain": [
       "(4937, 6, 7)"
      ]
     },
     "execution_count": 14,
     "metadata": {},
     "output_type": "execute_result"
    }
   ],
   "source": [
    "X_train.shape"
   ]
  },
  {
   "cell_type": "code",
   "execution_count": 15,
   "id": "63db5cfe",
   "metadata": {},
   "outputs": [
    {
     "data": {
      "text/plain": [
       "(6, 6)"
      ]
     },
     "execution_count": 15,
     "metadata": {},
     "output_type": "execute_result"
    }
   ],
   "source": [
    "onehot = np.zeros((6, 6))\n",
    "for i in range(6):\n",
    "    onehot[i, i] = 1\n",
    "onehot.shape"
   ]
  },
  {
   "cell_type": "code",
   "execution_count": 16,
   "id": "23b6a5e8",
   "metadata": {},
   "outputs": [],
   "source": [
    "dataset = FashionMNIST(root='nam/data/', download=True, train=True)"
   ]
  },
  {
   "cell_type": "code",
   "execution_count": 17,
   "id": "8b596206",
   "metadata": {},
   "outputs": [
    {
     "data": {
      "text/plain": [
       "torch.Size([28, 28])"
      ]
     },
     "execution_count": 17,
     "metadata": {},
     "output_type": "execute_result"
    }
   ],
   "source": [
    "dataset.data[0].shape"
   ]
  },
  {
   "cell_type": "code",
   "execution_count": 18,
   "id": "82e39707",
   "metadata": {},
   "outputs": [],
   "source": [
    "dataset = MNIST(root='nam/data/', download=True, train=True)\n",
    "X_data = dataset.data.numpy()\n",
    "y_data = dataset.targets.numpy().reshape(-1, 1)\n",
    "# mnist_test = MNIST(root='nam/data/', download=True, train=False)\n",
    "X_train, X_test, y_train, y_test = train_test_split(X_data, y_data, train_size=0.2, test_size=0.8, random_state=random_state, stratify=y_data)"
   ]
  },
  {
   "cell_type": "code",
   "execution_count": 19,
   "id": "668a2ce6",
   "metadata": {},
   "outputs": [
    {
     "data": {
      "text/plain": [
       "(2533, 1)"
      ]
     },
     "execution_count": 19,
     "metadata": {},
     "output_type": "execute_result"
    }
   ],
   "source": [
    "y_train[np.isin(y_train[:, 0], [0, 1])].shape"
   ]
  },
  {
   "cell_type": "code",
   "execution_count": 20,
   "id": "d093b21a",
   "metadata": {},
   "outputs": [],
   "source": [
    "def filterClasses(X, y, classes:list):\n",
    "    X = X[np.isin(y[:, 0], classes)]\n",
    "    y = y[np.isin(y[:, 0], classes)]\n",
    "    return X, y"
   ]
  },
  {
   "cell_type": "code",
   "execution_count": 21,
   "id": "e3d69d49",
   "metadata": {},
   "outputs": [],
   "source": [
    "def cood_encoding(x):\n",
    "    x = x / 255\n",
    "    indices = np.zeros((x.shape[1], x.shape[2], 2))\n",
    "    for i in range(28):\n",
    "        for j in range(28):\n",
    "            indices[i, j] = [i, j]\n",
    "    indices = np.repeat(indices[np.newaxis, :, :, :], x.shape[0], axis=0)\n",
    "    return np.concatenate((x[:, :, :, np.newaxis], indices), axis=3).reshape(x.shape[0], x.shape[1] * x.shape[2], 3)"
   ]
  },
  {
   "cell_type": "code",
   "execution_count": 22,
   "id": "dbcf790a",
   "metadata": {},
   "outputs": [],
   "source": [
    "X_train, y_train = filterClasses(X_train, y_train, [0, 1])\n",
    "X_test, y_test = filterClasses(X_test, y_test, [0, 1])"
   ]
  },
  {
   "cell_type": "code",
   "execution_count": 23,
   "id": "a5038a08",
   "metadata": {},
   "outputs": [
    {
     "data": {
      "text/plain": [
       "((2533, 784, 3), (10132, 784, 3))"
      ]
     },
     "execution_count": 23,
     "metadata": {},
     "output_type": "execute_result"
    }
   ],
   "source": [
    "\n",
    "X_train = cood_encoding(X_train)\n",
    "X_test = cood_encoding(X_test)\n",
    "X_train.shape, X_test.shape"
   ]
  },
  {
   "cell_type": "code",
   "execution_count": 24,
   "id": "1bb4ad23",
   "metadata": {},
   "outputs": [],
   "source": [
    "random_state = 2016\n",
    "dataset = MNIST(root='nam/data/', download=True, train=True)\n",
    "X_data = dataset.data.numpy()\n",
    "y_data = dataset.targets.numpy().reshape(-1, 1)\n",
    "\n",
    "X_data, y_data = filterClasses(X_data, y_data, [0, 1])\n",
    "\n",
    "X_train, X_test, y_train, y_test = train_test_split(X_data, y_data, train_size=0.2, test_size=0.8, random_state=random_state, stratify=y_data)\n",
    "X_test, _, y_test, _ = train_test_split(X_test, y_test, train_size=0.1, test_size=0.9, random_state=random_state, stratify=y_test)\n",
    "\n",
    "X_train = cood_encoding(X_train)\n",
    "X_test = cood_encoding(X_test)"
   ]
  },
  {
   "cell_type": "markdown",
   "id": "368717b6",
   "metadata": {},
   "source": [
    "## Single Task NAMs Classification"
   ]
  },
  {
   "cell_type": "code",
   "execution_count": 25,
   "id": "6d8c4293",
   "metadata": {
    "scrolled": true
   },
   "outputs": [
    {
     "name": "stdout",
     "output_type": "stream",
     "text": [
      "Format converting and model initializing are done.\n"
     ]
    },
    {
     "data": {
      "application/vnd.jupyter.widget-view+json": {
       "model_id": "794ac55dc8b64458ac848fc8dd4590c6",
       "version_major": 2,
       "version_minor": 0
      },
      "text/plain": [
       "  0%|          | 0/1 [00:00<?, ?it/s]"
      ]
     },
     "metadata": {},
     "output_type": "display_data"
    },
    {
     "data": {
      "application/vnd.jupyter.widget-view+json": {
       "model_id": "5a49b3cc1f42496cb9f245cec4d62940",
       "version_major": 2,
       "version_minor": 0
      },
      "text/plain": [
       "  0%|          | 0/1 [00:00<?, ?it/s]"
      ]
     },
     "metadata": {},
     "output_type": "display_data"
    },
    {
     "data": {
      "application/vnd.jupyter.widget-view+json": {
       "model_id": "",
       "version_major": 2,
       "version_minor": 0
      },
      "text/plain": [
       "  0%|          | 0/9 [00:00<?, ?it/s]"
      ]
     },
     "metadata": {},
     "output_type": "display_data"
    },
    {
     "data": {
      "application/vnd.jupyter.widget-view+json": {
       "model_id": "",
       "version_major": 2,
       "version_minor": 0
      },
      "text/plain": [
       "  0%|          | 0/9 [00:00<?, ?it/s]"
      ]
     },
     "metadata": {},
     "output_type": "display_data"
    },
    {
     "data": {
      "application/vnd.jupyter.widget-view+json": {
       "model_id": "",
       "version_major": 2,
       "version_minor": 0
      },
      "text/plain": [
       "  0%|          | 0/2 [00:00<?, ?it/s]"
      ]
     },
     "metadata": {},
     "output_type": "display_data"
    },
    {
     "data": {
      "application/vnd.jupyter.widget-view+json": {
       "model_id": "",
       "version_major": 2,
       "version_minor": 0
      },
      "text/plain": [
       "  0%|          | 0/2 [00:00<?, ?it/s]"
      ]
     },
     "metadata": {},
     "output_type": "display_data"
    },
    {
     "data": {
      "text/plain": [
       "<nam.wrapper.wrapper.NAMClassifier at 0x7f436df9ed60>"
      ]
     },
     "execution_count": 25,
     "metadata": {},
     "output_type": "execute_result"
    }
   ],
   "source": [
    "\n",
    "model = NAMClassifier(\n",
    "    num_epochs=1,\n",
    "    num_learners=2,\n",
    "    batch_size=256,\n",
    "    metric='auroc',\n",
    "    early_stop_mode='max',\n",
    "    monitor_loss=False,\n",
    "    n_jobs=10,\n",
    "    random_state=random_state,\n",
    "    device='cuda:0'\n",
    ")\n",
    "    \n",
    "model.fit(X_train, y_train)"
   ]
  },
  {
   "cell_type": "code",
   "execution_count": 26,
   "id": "2dc2ca39",
   "metadata": {},
   "outputs": [
    {
     "data": {
      "text/plain": [
       "0.1838456901748041"
      ]
     },
     "execution_count": 26,
     "metadata": {},
     "output_type": "execute_result"
    }
   ],
   "source": [
    "pred = model.predict_proba(X_test)\n",
    "sk_metrics.roc_auc_score(y_test, pred)"
   ]
  },
  {
   "cell_type": "markdown",
   "id": "c67d5272",
   "metadata": {},
   "source": [
    "## Multitask NAMs Classification"
   ]
  },
  {
   "cell_type": "code",
   "execution_count": 27,
   "id": "516e1d5d",
   "metadata": {},
   "outputs": [],
   "source": [
    "def make_gender_mtl_data(X, y):\n",
    "    y_male = y.copy()\n",
    "    y_male[X['sex'] == 1] = np.nan\n",
    "    y_female = y.copy()\n",
    "    y_female[X['sex'] == 0] = np.nan\n",
    "    return pd.concat([y_female, y_male], axis=1)"
   ]
  },
  {
   "cell_type": "code",
   "execution_count": 28,
   "id": "785d9398",
   "metadata": {},
   "outputs": [
    {
     "ename": "IndexError",
     "evalue": "only integers, slices (`:`), ellipsis (`...`), numpy.newaxis (`None`) and integer or boolean arrays are valid indices",
     "output_type": "error",
     "traceback": [
      "\u001b[0;31m---------------------------------------------------------------------------\u001b[0m",
      "\u001b[0;31mIndexError\u001b[0m                                Traceback (most recent call last)",
      "Input \u001b[0;32mIn [28]\u001b[0m, in \u001b[0;36m<cell line: 1>\u001b[0;34m()\u001b[0m\n\u001b[0;32m----> 1\u001b[0m y_train_mtl \u001b[38;5;241m=\u001b[39m \u001b[43mmake_gender_mtl_data\u001b[49m\u001b[43m(\u001b[49m\u001b[43mX_train\u001b[49m\u001b[43m,\u001b[49m\u001b[43m \u001b[49m\u001b[43my_train\u001b[49m\u001b[43m)\u001b[49m\n\u001b[1;32m      2\u001b[0m y_test_mtl \u001b[38;5;241m=\u001b[39m make_gender_mtl_data(X_test, y_test)\n",
      "Input \u001b[0;32mIn [27]\u001b[0m, in \u001b[0;36mmake_gender_mtl_data\u001b[0;34m(X, y)\u001b[0m\n\u001b[1;32m      1\u001b[0m \u001b[38;5;28;01mdef\u001b[39;00m \u001b[38;5;21mmake_gender_mtl_data\u001b[39m(X, y):\n\u001b[1;32m      2\u001b[0m     y_male \u001b[38;5;241m=\u001b[39m y\u001b[38;5;241m.\u001b[39mcopy()\n\u001b[0;32m----> 3\u001b[0m     y_male[\u001b[43mX\u001b[49m\u001b[43m[\u001b[49m\u001b[38;5;124;43m'\u001b[39;49m\u001b[38;5;124;43msex\u001b[39;49m\u001b[38;5;124;43m'\u001b[39;49m\u001b[43m]\u001b[49m \u001b[38;5;241m==\u001b[39m \u001b[38;5;241m1\u001b[39m] \u001b[38;5;241m=\u001b[39m np\u001b[38;5;241m.\u001b[39mnan\n\u001b[1;32m      4\u001b[0m     y_female \u001b[38;5;241m=\u001b[39m y\u001b[38;5;241m.\u001b[39mcopy()\n\u001b[1;32m      5\u001b[0m     y_female[X[\u001b[38;5;124m'\u001b[39m\u001b[38;5;124msex\u001b[39m\u001b[38;5;124m'\u001b[39m] \u001b[38;5;241m==\u001b[39m \u001b[38;5;241m0\u001b[39m] \u001b[38;5;241m=\u001b[39m np\u001b[38;5;241m.\u001b[39mnan\n",
      "\u001b[0;31mIndexError\u001b[0m: only integers, slices (`:`), ellipsis (`...`), numpy.newaxis (`None`) and integer or boolean arrays are valid indices"
     ]
    }
   ],
   "source": [
    "y_train_mtl = make_gender_mtl_data(X_train, y_train)\n",
    "y_test_mtl = make_gender_mtl_data(X_test, y_test)"
   ]
  },
  {
   "cell_type": "code",
   "execution_count": null,
   "id": "1a848b13",
   "metadata": {},
   "outputs": [],
   "source": [
    "X_train_mtl = X_train.drop(columns=['sex'])\n",
    "X_test_mtl = X_test.drop(columns=['sex'])"
   ]
  },
  {
   "cell_type": "code",
   "execution_count": null,
   "id": "fb5b33a4",
   "metadata": {},
   "outputs": [],
   "source": [
    "# NaN indicates label missing\n",
    "y_train_mtl"
   ]
  },
  {
   "cell_type": "code",
   "execution_count": null,
   "id": "34125a62",
   "metadata": {
    "scrolled": true
   },
   "outputs": [],
   "source": [
    "model = MultiTaskNAMClassifier(\n",
    "            num_learners=20,\n",
    "            patience=60,\n",
    "            num_epochs=1000,\n",
    "            num_subnets=10,\n",
    "            metric='auroc',\n",
    "            monitor_loss=False,\n",
    "            early_stop_mode='max',\n",
    "            n_jobs=10,\n",
    "            random_state=random_state\n",
    "        )\n",
    "\n",
    "model.fit(X_train_mtl, y_train_mtl)"
   ]
  },
  {
   "cell_type": "code",
   "execution_count": null,
   "id": "f2d3dd65",
   "metadata": {},
   "outputs": [],
   "source": [
    "pred = model.predict_proba(X_test_mtl)"
   ]
  },
  {
   "cell_type": "code",
   "execution_count": null,
   "id": "61d926cc",
   "metadata": {},
   "outputs": [],
   "source": [
    "# Flatten and remove nans\n",
    "y_test_mtl_flat = y_test_mtl.to_numpy().reshape(-1)\n",
    "pred_flat = pred.reshape(-1)\n",
    "\n",
    "non_nan_indices = y_test_mtl_flat == y_test_mtl_flat \n",
    "y_test_mtl_flat = y_test_mtl_flat[non_nan_indices]\n",
    "pred_flat = pred_flat[non_nan_indices]"
   ]
  },
  {
   "cell_type": "code",
   "execution_count": null,
   "id": "9a293456",
   "metadata": {},
   "outputs": [],
   "source": [
    "sk_metrics.roc_auc_score(y_test_mtl_flat, pred_flat)"
   ]
  }
 ],
 "metadata": {
  "kernelspec": {
   "display_name": "Python 3 (ipykernel)",
   "language": "python",
   "name": "python3"
  },
  "language_info": {
   "codemirror_mode": {
    "name": "ipython",
    "version": 3
   },
   "file_extension": ".py",
   "mimetype": "text/x-python",
   "name": "python",
   "nbconvert_exporter": "python",
   "pygments_lexer": "ipython3",
   "version": "3.8.15"
  },
  "vscode": {
   "interpreter": {
    "hash": "e42634819b8c191a5d07eaf23810ff32516dd8d3875f28ec3e488928fbd3c187"
   }
  }
 },
 "nbformat": 4,
 "nbformat_minor": 5
}
