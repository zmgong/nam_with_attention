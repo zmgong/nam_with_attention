{
 "cells": [
  {
   "cell_type": "code",
   "execution_count": 3,
   "id": "d4a0402d",
   "metadata": {},
   "outputs": [],
   "source": [
    "from time import time\n",
    "\n",
    "import numpy as np\n",
    "import pandas as pd\n",
    "import sklearn.metrics as sk_metrics\n",
    "import torch\n",
    "from sklearn.model_selection import train_test_split\n",
    "from sklearn.preprocessing import MinMaxScaler\n",
    "from sklearn.preprocessing import OneHotEncoder\n",
    "from torch.utils.data import random_split\n",
    "from matplotlib import pyplot as plt\n",
    "from nam.wrapper import NAMClassifier, MultiTaskNAMClassifier"
   ]
  },
  {
   "cell_type": "code",
   "execution_count": 4,
   "id": "3ab22761",
   "metadata": {},
   "outputs": [],
   "source": [
    "def make_gender_mtl_data(X, y):\n",
    "    y_male = y.copy()\n",
    "    y_male[X['sex'] == 1] = np.nan\n",
    "    y_female = y.copy()\n",
    "    y_female[X['sex'] == 0] = np.nan\n",
    "    return pd.concat([y_female, y_male], axis=1)\n",
    "\n",
    "def onehot_pos_embedding(x):\n",
    "    onehot = np.zeros((x.shape[-1], x.shape[-1]))\n",
    "    for i in range(6):\n",
    "        onehot[i, i] = 1\n",
    "    onehot = np.repeat(onehot[np.newaxis, :, :], x.shape[0], axis=0)\n",
    "    return np.concatenate((x[:, :, np.newaxis], onehot), axis=2)\n"
   ]
  },
  {
   "cell_type": "code",
   "execution_count": 5,
   "id": "9f2f2d10",
   "metadata": {},
   "outputs": [
    {
     "name": "stdout",
     "output_type": "stream",
     "text": [
      "(6172, 6, 7)\n"
     ]
    }
   ],
   "source": [
    "pre_train_path = None\n",
    "\n",
    "random_state = 2016\n",
    "dataset = pd.read_csv('nam/data/recid.data', delimiter=' ', header=None)\n",
    "dataset.columns = [\"age\", \"race\", \"sex\", \"priors_count\", \"length_of_stay\", \"c_charge_degree\", \"two_year_recid\"]\n",
    "binary = ['sex', 'c_charge_degree']\n",
    "other = ['age', 'race', 'priors_count', 'length_of_stay']\n",
    "# scaler = MinMaxScaler((-1, 1))\n",
    "# dataset[other] = scaler.fit_transform(dataset[other])\n",
    "dataset[binary] = dataset[binary] - 1\n",
    "\n",
    "X_data = dataset.drop(columns=['two_year_recid']).to_numpy()\n",
    "y_data = dataset['two_year_recid'].to_numpy().reshape(-1, 1)\n",
    "X_data = onehot_pos_embedding(X_data)\n",
    "print(X_data.shape)\n",
    "\n",
    "X_train, X_test, y_train, y_test = train_test_split(X_data, y_data, train_size=0.8, test_size=0.2, random_state=random_state)\n",
    "\n",
    "#Single Task NAMs Classification\n",
    "s_time = time()\n",
    "model = NAMClassifier(\n",
    "    num_epochs=1000,\n",
    "    lr=0.001,\n",
    "\n",
    "    num_learners=20,\n",
    "    metric='auroc',\n",
    "    early_stop_mode='max',\n",
    "    monitor_loss=False,\n",
    "    n_jobs=10,\n",
    "    random_state=random_state,\n",
    "    device='cuda:0',\n",
    "    pos_embed=1,\n",
    ")\n",
    "    "
   ]
  },
  {
   "cell_type": "code",
   "execution_count": 6,
   "id": "db6d0ace",
   "metadata": {
    "scrolled": true
   },
   "outputs": [
    {
     "name": "stdout",
     "output_type": "stream",
     "text": [
      "Format converting and model initializing are done.\n"
     ]
    },
    {
     "name": "stderr",
     "output_type": "stream",
     "text": [
      "2022-12-13 20:26:25.940984: I tensorflow/core/platform/cpu_feature_guard.cc:193] This TensorFlow binary is optimized with oneAPI Deep Neural Network Library (oneDNN) to use the following CPU instructions in performance-critical operations:  SSE4.1 SSE4.2 AVX AVX2 FMA\n",
      "To enable them in other operations, rebuild TensorFlow with the appropriate compiler flags.\n"
     ]
    },
    {
     "data": {
      "application/vnd.jupyter.widget-view+json": {
       "model_id": "ffb8c6c731154e51b0573463c240c838",
       "version_major": 2,
       "version_minor": 0
      },
      "text/plain": [
       "  0%|          | 0/1000 [00:00<?, ?it/s]"
      ]
     },
     "metadata": {},
     "output_type": "display_data"
    },
    {
     "data": {
      "application/vnd.jupyter.widget-view+json": {
       "model_id": "7992f6178b9042cba6574b6c7e213d7c",
       "version_major": 2,
       "version_minor": 0
      },
      "text/plain": [
       "  0%|          | 0/1000 [00:00<?, ?it/s]"
      ]
     },
     "metadata": {},
     "output_type": "display_data"
    },
    {
     "data": {
      "application/vnd.jupyter.widget-view+json": {
       "model_id": "23ef0a4eebe94beb8cd0a1e7119b8133",
       "version_major": 2,
       "version_minor": 0
      },
      "text/plain": [
       "  0%|          | 0/1000 [00:00<?, ?it/s]"
      ]
     },
     "metadata": {},
     "output_type": "display_data"
    },
    {
     "data": {
      "application/vnd.jupyter.widget-view+json": {
       "model_id": "4de0951b89954117a0583f422a25d1e5",
       "version_major": 2,
       "version_minor": 0
      },
      "text/plain": [
       "  0%|          | 0/1000 [00:00<?, ?it/s]"
      ]
     },
     "metadata": {},
     "output_type": "display_data"
    },
    {
     "data": {
      "application/vnd.jupyter.widget-view+json": {
       "model_id": "8b14008444d54d7db30731b136070dcc",
       "version_major": 2,
       "version_minor": 0
      },
      "text/plain": [
       "  0%|          | 0/1000 [00:00<?, ?it/s]"
      ]
     },
     "metadata": {},
     "output_type": "display_data"
    },
    {
     "data": {
      "application/vnd.jupyter.widget-view+json": {
       "model_id": "8ae67f837f2a48f5b462378a9bc0eb66",
       "version_major": 2,
       "version_minor": 0
      },
      "text/plain": [
       "  0%|          | 0/1000 [00:00<?, ?it/s]"
      ]
     },
     "metadata": {},
     "output_type": "display_data"
    },
    {
     "data": {
      "application/vnd.jupyter.widget-view+json": {
       "model_id": "44ca1150468046cdb5f7cd4faaa75de8",
       "version_major": 2,
       "version_minor": 0
      },
      "text/plain": [
       "  0%|          | 0/1000 [00:00<?, ?it/s]"
      ]
     },
     "metadata": {},
     "output_type": "display_data"
    },
    {
     "data": {
      "application/vnd.jupyter.widget-view+json": {
       "model_id": "3b948f3ab90747ffa64928598f5adb0c",
       "version_major": 2,
       "version_minor": 0
      },
      "text/plain": [
       "  0%|          | 0/1000 [00:00<?, ?it/s]"
      ]
     },
     "metadata": {},
     "output_type": "display_data"
    },
    {
     "data": {
      "application/vnd.jupyter.widget-view+json": {
       "model_id": "66dda50995b7479e81229e7d50806051",
       "version_major": 2,
       "version_minor": 0
      },
      "text/plain": [
       "  0%|          | 0/1000 [00:00<?, ?it/s]"
      ]
     },
     "metadata": {},
     "output_type": "display_data"
    },
    {
     "data": {
      "application/vnd.jupyter.widget-view+json": {
       "model_id": "e3739daa16b348e390840b6939352cb8",
       "version_major": 2,
       "version_minor": 0
      },
      "text/plain": [
       "  0%|          | 0/1000 [00:00<?, ?it/s]"
      ]
     },
     "metadata": {},
     "output_type": "display_data"
    },
    {
     "data": {
      "application/vnd.jupyter.widget-view+json": {
       "model_id": "5bab57b3680e48d6a28a70777dbfffe7",
       "version_major": 2,
       "version_minor": 0
      },
      "text/plain": [
       "  0%|          | 0/1000 [00:00<?, ?it/s]"
      ]
     },
     "metadata": {},
     "output_type": "display_data"
    },
    {
     "data": {
      "application/vnd.jupyter.widget-view+json": {
       "model_id": "bb6eed449f834193a25c81591f3803d5",
       "version_major": 2,
       "version_minor": 0
      },
      "text/plain": [
       "  0%|          | 0/1000 [00:00<?, ?it/s]"
      ]
     },
     "metadata": {},
     "output_type": "display_data"
    },
    {
     "data": {
      "application/vnd.jupyter.widget-view+json": {
       "model_id": "0d9e54cfb01748588c0769806d7399c5",
       "version_major": 2,
       "version_minor": 0
      },
      "text/plain": [
       "  0%|          | 0/1000 [00:00<?, ?it/s]"
      ]
     },
     "metadata": {},
     "output_type": "display_data"
    },
    {
     "data": {
      "application/vnd.jupyter.widget-view+json": {
       "model_id": "1c183c09a98b45b9a5562b57708a3284",
       "version_major": 2,
       "version_minor": 0
      },
      "text/plain": [
       "  0%|          | 0/1000 [00:00<?, ?it/s]"
      ]
     },
     "metadata": {},
     "output_type": "display_data"
    },
    {
     "data": {
      "application/vnd.jupyter.widget-view+json": {
       "model_id": "fd1e7c1cbacf46bbaa6e54f00cdb46d0",
       "version_major": 2,
       "version_minor": 0
      },
      "text/plain": [
       "  0%|          | 0/1000 [00:00<?, ?it/s]"
      ]
     },
     "metadata": {},
     "output_type": "display_data"
    },
    {
     "data": {
      "application/vnd.jupyter.widget-view+json": {
       "model_id": "b76478bd87c5495496f4a62c2a52a555",
       "version_major": 2,
       "version_minor": 0
      },
      "text/plain": [
       "  0%|          | 0/1000 [00:00<?, ?it/s]"
      ]
     },
     "metadata": {},
     "output_type": "display_data"
    },
    {
     "data": {
      "application/vnd.jupyter.widget-view+json": {
       "model_id": "2b64bc2868b74e35bc8347cc09e43ddc",
       "version_major": 2,
       "version_minor": 0
      },
      "text/plain": [
       "  0%|          | 0/1000 [00:00<?, ?it/s]"
      ]
     },
     "metadata": {},
     "output_type": "display_data"
    },
    {
     "data": {
      "application/vnd.jupyter.widget-view+json": {
       "model_id": "e7c1ce47223843638d7611ce8a3d360b",
       "version_major": 2,
       "version_minor": 0
      },
      "text/plain": [
       "  0%|          | 0/1000 [00:00<?, ?it/s]"
      ]
     },
     "metadata": {},
     "output_type": "display_data"
    },
    {
     "data": {
      "application/vnd.jupyter.widget-view+json": {
       "model_id": "6de22e93109741a0a8bda65231a044c6",
       "version_major": 2,
       "version_minor": 0
      },
      "text/plain": [
       "  0%|          | 0/1000 [00:00<?, ?it/s]"
      ]
     },
     "metadata": {},
     "output_type": "display_data"
    },
    {
     "data": {
      "application/vnd.jupyter.widget-view+json": {
       "model_id": "ce4951ac3b7a4bde838a9510dfd2abf1",
       "version_major": 2,
       "version_minor": 0
      },
      "text/plain": [
       "  0%|          | 0/1000 [00:00<?, ?it/s]"
      ]
     },
     "metadata": {},
     "output_type": "display_data"
    },
    {
     "data": {
      "text/plain": [
       "<nam.wrapper.wrapper.NAMClassifier at 0x7f3dd682cca0>"
      ]
     },
     "execution_count": 6,
     "metadata": {},
     "output_type": "execute_result"
    }
   ],
   "source": [
    "model.fit(X_train, y_train)"
   ]
  },
  {
   "cell_type": "code",
   "execution_count": 7,
   "id": "85949ca3",
   "metadata": {},
   "outputs": [],
   "source": [
    "pred, feature, feature_after_att, attn_output_weights = model.predict_proba(X_test)"
   ]
  },
  {
   "cell_type": "code",
   "execution_count": 8,
   "id": "0e2bf056",
   "metadata": {},
   "outputs": [
    {
     "name": "stdout",
     "output_type": "stream",
     "text": [
      "0.7483392294024427\n"
     ]
    }
   ],
   "source": [
    "print(sk_metrics.roc_auc_score(y_test, pred))"
   ]
  },
  {
   "cell_type": "code",
   "execution_count": 9,
   "id": "6bf2ab2e",
   "metadata": {},
   "outputs": [],
   "source": [
    "\n",
    "feature_after_att = feature_after_att.detach().numpy()\n",
    "pred = np.squeeze(pred).tolist()"
   ]
  },
  {
   "cell_type": "code",
   "execution_count": 10,
   "id": "37400396",
   "metadata": {},
   "outputs": [],
   "source": [
    "X_test=X_test[:, :, 0]"
   ]
  },
  {
   "cell_type": "code",
   "execution_count": 11,
   "id": "b99daa84",
   "metadata": {},
   "outputs": [
    {
     "data": {
      "text/plain": [
       "array([[28.,  3.,  1.,  0.,  1.,  0.],\n",
       "       [40.,  1.,  1., 15., 55.,  0.],\n",
       "       [31.,  1.,  1.,  0.,  0.,  0.],\n",
       "       ...,\n",
       "       [45.,  3.,  1.,  1.,  1.,  1.],\n",
       "       [25.,  3.,  1.,  3., 19.,  0.],\n",
       "       [34.,  3.,  1.,  1.,  3.,  0.]])"
      ]
     },
     "execution_count": 11,
     "metadata": {},
     "output_type": "execute_result"
    }
   ],
   "source": [
    "X_test"
   ]
  },
  {
   "cell_type": "code",
   "execution_count": 72,
   "id": "47049ea5",
   "metadata": {},
   "outputs": [],
   "source": [
    "def plot_fig(j, x_label):\n",
    "    \n",
    "    curr_data_list = []\n",
    "    for i in range(len(X_test)):\n",
    "        curr_data_list.append(X_test[i][j])\n",
    "    X = curr_data_list\n",
    "    Y = pred\n",
    "    Z = y_test.squeeze().tolist()\n",
    "\n",
    "    df = pd.DataFrame(list(zip(X, Y, Z)),\n",
    "               columns =['val', 'pred', 'gt'])\n",
    "    df\n",
    "    if j==0:\n",
    "        averaged = df.groupby(pd.cut(df[\"val\"], np.arange(18, 90, 5))).mean()\n",
    "        averaged.reset_index(drop=True, inplace=True)\n",
    "    elif j==3:\n",
    "        averaged = df.groupby(pd.cut(df[\"val\"], np.arange(0, 33, 5))).mean()\n",
    "        averaged.reset_index(drop=True, inplace=True)\n",
    "    elif j==4:\n",
    "        averaged = df.groupby(pd.cut(df[\"val\"], np.arange(0, 600, 20))).mean()\n",
    "        averaged.reset_index(drop=True, inplace=True)\n",
    "    else:\n",
    "        averaged = df.groupby('val').mean()\n",
    "        averaged['val'] = averaged.index\n",
    "\n",
    "\n",
    "    X = averaged[\"val\"].tolist()\n",
    "    Y = averaged[\"pred\"].tolist()\n",
    "    Z = averaged[\"gt\"].tolist()\n",
    "    print(X)\n",
    "    if j == 0:\n",
    "        plt.xlim([20,70])\n",
    "    if j == 4:\n",
    "        plt.xlim([0,250])\n",
    "    plt.ylim([-0.2,1.2])\n",
    "    plt.xlabel(x_label) \n",
    "    plt.ylabel('Recudivism probability (Pred/GT)') \n",
    "    plt.plot(X, Y)\n",
    "    plt.plot(X, Z)\n",
    "    \n",
    "    "
   ]
  },
  {
   "cell_type": "code",
   "execution_count": 73,
   "id": "9a0b90f3",
   "metadata": {},
   "outputs": [
    {
     "name": "stdout",
     "output_type": "stream",
     "text": [
      "[21.582159624413144, 25.76140350877193, 30.829596412556054, 35.79054054054054, 40.82022471910113, 45.98979591836735, 50.921052631578945, 55.758620689655174, 60.72, 65.71428571428571, 70.0, 77.0, 81.0, nan]\n"
     ]
    },
    {
     "data": {
      "image/png": "[encoded data removed]",
      "text/plain": [
       "<Figure size 432x288 with 1 Axes>"
      ]
     },
     "metadata": {
      "needs_background": "light"
     },
     "output_type": "display_data"
    }
   ],
   "source": [
    "plot_fig(0, \"Age\")"
   ]
  },
  {
   "cell_type": "code",
   "execution_count": 74,
   "id": "739bf899",
   "metadata": {},
   "outputs": [
    {
     "name": "stdout",
     "output_type": "stream",
     "text": [
      "[1.0, 2.0, 3.0, 4.0, 5.0, 6.0]\n"
     ]
    },
    {
     "data": {
      "image/png": "[encoded data removed]",
      "text/plain": [
       "<Figure size 432x288 with 1 Axes>"
      ]
     },
     "metadata": {
      "needs_background": "light"
     },
     "output_type": "display_data"
    }
   ],
   "source": [
    "plot_fig(1, \"Race\")"
   ]
  },
  {
   "cell_type": "code",
   "execution_count": 75,
   "id": "1ebea202",
   "metadata": {},
   "outputs": [
    {
     "name": "stdout",
     "output_type": "stream",
     "text": [
      "[0.0, 1.0]\n"
     ]
    },
    {
     "data": {
      "image/png": "[encoded data removed]",
      "text/plain": [
       "<Figure size 432x288 with 1 Axes>"
      ]
     },
     "metadata": {
      "needs_background": "light"
     },
     "output_type": "display_data"
    }
   ],
   "source": [
    "plot_fig(2, \"Gender\")"
   ]
  },
  {
   "cell_type": "code",
   "execution_count": 76,
   "id": "8b8ce840",
   "metadata": {},
   "outputs": [
    {
     "name": "stdout",
     "output_type": "stream",
     "text": [
      "[2.274914089347079, 7.604651162790698, 13.016949152542374, 17.545454545454547, 22.833333333333332, 28.0]\n"
     ]
    },
    {
     "data": {
      "image/png": "[encoded data removed]",
      "text/plain": [
       "<Figure size 432x288 with 1 Axes>"
      ]
     },
     "metadata": {
      "needs_background": "light"
     },
     "output_type": "display_data"
    }
   ],
   "source": [
    "# priors_count\n",
    "plot_fig(3, \"Priors count\")"
   ]
  },
  {
   "cell_type": "code",
   "execution_count": 77,
   "id": "e063be84",
   "metadata": {},
   "outputs": [
    {
     "name": "stdout",
     "output_type": "stream",
     "text": [
      "[2.727574750830565, 29.742424242424242, 49.27777777777778, 69.875, 86.41666666666667, 112.8, 131.28571428571428, 148.0, 172.0, 188.0, 216.0, 239.0, 242.0, 280.0, nan, 301.0, nan, nan, nan, nan, nan, nan, nan, 470.0, nan, nan, nan, nan, nan]\n"
     ]
    },
    {
     "data": {
      "image/png": "[encoded data removed]",
      "text/plain": [
       "<Figure size 432x288 with 1 Axes>"
      ]
     },
     "metadata": {
      "needs_background": "light"
     },
     "output_type": "display_data"
    }
   ],
   "source": [
    "\n",
    "plot_fig(4, 'length of stay')"
   ]
  },
  {
   "cell_type": "code",
   "execution_count": 78,
   "id": "03fcf16d",
   "metadata": {},
   "outputs": [
    {
     "name": "stdout",
     "output_type": "stream",
     "text": [
      "[0.0, 1.0]\n"
     ]
    },
    {
     "data": {
      "image/png": "[encoded data removed]",
      "text/plain": [
       "<Figure size 432x288 with 1 Axes>"
      ]
     },
     "metadata": {
      "needs_background": "light"
     },
     "output_type": "display_data"
    }
   ],
   "source": [
    "plot_fig(5, 'Charge degree')\n"
   ]
  },
  {
   "cell_type": "code",
   "execution_count": 70,
   "id": "61caeaf7",
   "metadata": {},
   "outputs": [],
   "source": [
    "dict = {\"pred\": pred, \"feature\":feature, \"feature_after_att\": feature_after_att, \"attn_output_weights\":attn_output_weights, \"X\": X_test, \"gt\": y_test.squeeze()}"
   ]
  },
  {
   "cell_type": "code",
   "execution_count": 71,
   "id": "80ecc3bf",
   "metadata": {},
   "outputs": [],
   "source": [
    "import csv\n",
    "with open('recid_data.csv', 'w', newline='') as f:\n",
    "    writer = csv.DictWriter(f, fieldnames=dict.keys())\n",
    "    writer.writeheader()\n",
    "    writer.writerow(dict)"
   ]
  },
  {
   "cell_type": "code",
   "execution_count": null,
   "id": "2102b660",
   "metadata": {},
   "outputs": [],
   "source": []
  }
 ],
 "metadata": {
  "kernelspec": {
   "display_name": "Python 3 (ipykernel)",
   "language": "python",
   "name": "python3"
  },
  "language_info": {
   "codemirror_mode": {
    "name": "ipython",
    "version": 3
   },
   "file_extension": ".py",
   "mimetype": "text/x-python",
   "name": "python",
   "nbconvert_exporter": "python",
   "pygments_lexer": "ipython3",
   "version": "3.8.15"
  }
 },
 "nbformat": 4,
 "nbformat_minor": 5
}
