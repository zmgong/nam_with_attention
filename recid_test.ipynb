{
 "cells": [
  {
   "cell_type": "code",
   "execution_count": 1,
   "id": "d4a0402d",
   "metadata": {},
   "outputs": [],
   "source": [
    "from time import time\n",
    "\n",
    "import numpy as np\n",
    "import pandas as pd\n",
    "import sklearn.metrics as sk_metrics\n",
    "import torch\n",
    "from sklearn.model_selection import train_test_split\n",
    "from sklearn.preprocessing import MinMaxScaler\n",
    "from sklearn.preprocessing import OneHotEncoder\n",
    "from torch.utils.data import random_split\n",
    "from matplotlib import pyplot as plt\n",
    "from nam.wrapper import NAMClassifier, MultiTaskNAMClassifier"
   ]
  },
  {
   "cell_type": "code",
   "execution_count": 2,
   "id": "3ab22761",
   "metadata": {},
   "outputs": [],
   "source": [
    "def make_gender_mtl_data(X, y):\n",
    "    y_male = y.copy()\n",
    "    y_male[X['sex'] == 1] = np.nan\n",
    "    y_female = y.copy()\n",
    "    y_female[X['sex'] == 0] = np.nan\n",
    "    return pd.concat([y_female, y_male], axis=1)\n",
    "\n",
    "def onehot_pos_embedding(x):\n",
    "    onehot = np.zeros((6, 6))\n",
    "    for i in range(6):\n",
    "        onehot[i, i] = 1\n",
    "    onehot = np.repeat(onehot[np.newaxis, :, :], x.shape[0], axis=0)\n",
    "    return np.concatenate((x[:, :, np.newaxis], onehot), axis=2)\n"
   ]
  },
  {
   "cell_type": "code",
   "execution_count": 3,
   "id": "9f2f2d10",
   "metadata": {},
   "outputs": [],
   "source": [
    "pre_train_path = None\n",
    "\n",
    "random_state = 2016\n",
    "dataset = pd.read_csv('nam/data/recid.data', delimiter=' ', header=None)\n",
    "dataset.columns = [\"age\", \"race\", \"sex\", \"priors_count\", \"length_of_stay\", \"c_charge_degree\", \"two_year_recid\"]\n",
    "binary = ['sex', 'c_charge_degree']\n",
    "other = ['age', 'race', 'priors_count', 'length_of_stay']\n",
    "# scaler = MinMaxScaler((-1, 1))\n",
    "# dataset[other] = scaler.fit_transform(dataset[other])\n",
    "dataset[binary] = dataset[binary] - 1\n",
    "\n",
    "X_data = dataset.drop(columns=['two_year_recid']).to_numpy()\n",
    "y_data = dataset['two_year_recid'].to_numpy().reshape(-1, 1)\n",
    "X_data = onehot_pos_embedding(X_data)\n",
    "X_train, X_test, y_train, y_test = train_test_split(X_data, y_data, train_size=0.8, test_size=0.2, random_state=random_state)\n",
    "\n",
    "#Single Task NAMs Classification\n",
    "s_time = time()\n",
    "model = NAMClassifier(\n",
    "    num_epochs=1000,\n",
    "    num_learners=20,\n",
    "    metric='auroc',\n",
    "    early_stop_mode='max',\n",
    "    monitor_loss=False,\n",
    "    n_jobs=10,\n",
    "    random_state=random_state,\n",
    "    device='cuda:0'\n",
    ")\n",
    "    "
   ]
  },
  {
   "cell_type": "code",
   "execution_count": 4,
   "id": "db6d0ace",
   "metadata": {
    "scrolled": true
   },
   "outputs": [
    {
     "name": "stdout",
     "output_type": "stream",
     "text": [
      "Format converting and model initializing are done.\n"
     ]
    },
    {
     "name": "stderr",
     "output_type": "stream",
     "text": [
      "2022-12-01 16:42:31.134350: I tensorflow/core/platform/cpu_feature_guard.cc:193] This TensorFlow binary is optimized with oneAPI Deep Neural Network Library (oneDNN) to use the following CPU instructions in performance-critical operations:  SSE4.1 SSE4.2 AVX AVX2 FMA\n",
      "To enable them in other operations, rebuild TensorFlow with the appropriate compiler flags.\n"
     ]
    },
    {
     "data": {
      "application/vnd.jupyter.widget-view+json": {
       "model_id": "2e09976f0e40463cb42e5a3ef15bc133",
       "version_major": 2,
       "version_minor": 0
      },
      "text/plain": [
       "  0%|          | 0/1000 [00:00<?, ?it/s]"
      ]
     },
     "metadata": {},
     "output_type": "display_data"
    },
    {
     "data": {
      "application/vnd.jupyter.widget-view+json": {
       "model_id": "1ec0bdf849604ea29fe19a29aebe14b5",
       "version_major": 2,
       "version_minor": 0
      },
      "text/plain": [
       "  0%|          | 0/1000 [00:00<?, ?it/s]"
      ]
     },
     "metadata": {},
     "output_type": "display_data"
    },
    {
     "data": {
      "application/vnd.jupyter.widget-view+json": {
       "model_id": "26e3b756d09340929f3884cdf524822f",
       "version_major": 2,
       "version_minor": 0
      },
      "text/plain": [
       "  0%|          | 0/1000 [00:00<?, ?it/s]"
      ]
     },
     "metadata": {},
     "output_type": "display_data"
    },
    {
     "data": {
      "application/vnd.jupyter.widget-view+json": {
       "model_id": "a32f14aeba4e4a6588d53537486bcaa7",
       "version_major": 2,
       "version_minor": 0
      },
      "text/plain": [
       "  0%|          | 0/1000 [00:00<?, ?it/s]"
      ]
     },
     "metadata": {},
     "output_type": "display_data"
    },
    {
     "data": {
      "application/vnd.jupyter.widget-view+json": {
       "model_id": "57166547f0d6437cab0626edd63b0701",
       "version_major": 2,
       "version_minor": 0
      },
      "text/plain": [
       "  0%|          | 0/1000 [00:00<?, ?it/s]"
      ]
     },
     "metadata": {},
     "output_type": "display_data"
    },
    {
     "data": {
      "application/vnd.jupyter.widget-view+json": {
       "model_id": "6bd2a9f0327f404cbbe3bd5b6fc7ad88",
       "version_major": 2,
       "version_minor": 0
      },
      "text/plain": [
       "  0%|          | 0/1000 [00:00<?, ?it/s]"
      ]
     },
     "metadata": {},
     "output_type": "display_data"
    },
    {
     "data": {
      "application/vnd.jupyter.widget-view+json": {
       "model_id": "2d3a56b2e2d64731b23a4f07d15c2b25",
       "version_major": 2,
       "version_minor": 0
      },
      "text/plain": [
       "  0%|          | 0/1000 [00:00<?, ?it/s]"
      ]
     },
     "metadata": {},
     "output_type": "display_data"
    },
    {
     "data": {
      "application/vnd.jupyter.widget-view+json": {
       "model_id": "d68f9459f2ca4c5fa6050042eaef3eeb",
       "version_major": 2,
       "version_minor": 0
      },
      "text/plain": [
       "  0%|          | 0/1000 [00:00<?, ?it/s]"
      ]
     },
     "metadata": {},
     "output_type": "display_data"
    },
    {
     "data": {
      "application/vnd.jupyter.widget-view+json": {
       "model_id": "1d7a0be1d81b4084b512cf0514fc3242",
       "version_major": 2,
       "version_minor": 0
      },
      "text/plain": [
       "  0%|          | 0/1000 [00:00<?, ?it/s]"
      ]
     },
     "metadata": {},
     "output_type": "display_data"
    },
    {
     "data": {
      "application/vnd.jupyter.widget-view+json": {
       "model_id": "c30f338522dc48d4a48a19638bf68f4d",
       "version_major": 2,
       "version_minor": 0
      },
      "text/plain": [
       "  0%|          | 0/1000 [00:00<?, ?it/s]"
      ]
     },
     "metadata": {},
     "output_type": "display_data"
    },
    {
     "data": {
      "application/vnd.jupyter.widget-view+json": {
       "model_id": "2a24b10e638f42bfa816b43a1da77770",
       "version_major": 2,
       "version_minor": 0
      },
      "text/plain": [
       "  0%|          | 0/1000 [00:00<?, ?it/s]"
      ]
     },
     "metadata": {},
     "output_type": "display_data"
    },
    {
     "data": {
      "application/vnd.jupyter.widget-view+json": {
       "model_id": "bcd39bf4fe7b46458e1a7bd799eec749",
       "version_major": 2,
       "version_minor": 0
      },
      "text/plain": [
       "  0%|          | 0/1000 [00:00<?, ?it/s]"
      ]
     },
     "metadata": {},
     "output_type": "display_data"
    },
    {
     "data": {
      "application/vnd.jupyter.widget-view+json": {
       "model_id": "9aa5b4e88788442bb78588646462662e",
       "version_major": 2,
       "version_minor": 0
      },
      "text/plain": [
       "  0%|          | 0/1000 [00:00<?, ?it/s]"
      ]
     },
     "metadata": {},
     "output_type": "display_data"
    },
    {
     "data": {
      "application/vnd.jupyter.widget-view+json": {
       "model_id": "ada66007154d4527bef5c71c7c4b0a6b",
       "version_major": 2,
       "version_minor": 0
      },
      "text/plain": [
       "  0%|          | 0/1000 [00:00<?, ?it/s]"
      ]
     },
     "metadata": {},
     "output_type": "display_data"
    },
    {
     "data": {
      "application/vnd.jupyter.widget-view+json": {
       "model_id": "7e9373dd18494cd9937fa2c7b20ccc6c",
       "version_major": 2,
       "version_minor": 0
      },
      "text/plain": [
       "  0%|          | 0/1000 [00:00<?, ?it/s]"
      ]
     },
     "metadata": {},
     "output_type": "display_data"
    },
    {
     "data": {
      "application/vnd.jupyter.widget-view+json": {
       "model_id": "5b68393cb50543288e981f710e02ec8d",
       "version_major": 2,
       "version_minor": 0
      },
      "text/plain": [
       "  0%|          | 0/1000 [00:00<?, ?it/s]"
      ]
     },
     "metadata": {},
     "output_type": "display_data"
    },
    {
     "data": {
      "application/vnd.jupyter.widget-view+json": {
       "model_id": "715b18ee9a0f4398b81c73ee677b5288",
       "version_major": 2,
       "version_minor": 0
      },
      "text/plain": [
       "  0%|          | 0/1000 [00:00<?, ?it/s]"
      ]
     },
     "metadata": {},
     "output_type": "display_data"
    },
    {
     "data": {
      "application/vnd.jupyter.widget-view+json": {
       "model_id": "6d62671b75c34e70a31a8ed3d74648cc",
       "version_major": 2,
       "version_minor": 0
      },
      "text/plain": [
       "  0%|          | 0/1000 [00:00<?, ?it/s]"
      ]
     },
     "metadata": {},
     "output_type": "display_data"
    },
    {
     "data": {
      "application/vnd.jupyter.widget-view+json": {
       "model_id": "bb035f7f270c4777b6b6827c12418e58",
       "version_major": 2,
       "version_minor": 0
      },
      "text/plain": [
       "  0%|          | 0/1000 [00:00<?, ?it/s]"
      ]
     },
     "metadata": {},
     "output_type": "display_data"
    },
    {
     "data": {
      "application/vnd.jupyter.widget-view+json": {
       "model_id": "669d99ba60d64c529200e5fcc53fdce1",
       "version_major": 2,
       "version_minor": 0
      },
      "text/plain": [
       "  0%|          | 0/1000 [00:00<?, ?it/s]"
      ]
     },
     "metadata": {},
     "output_type": "display_data"
    },
    {
     "data": {
      "text/plain": [
       "<nam.wrapper.wrapper.NAMClassifier at 0x7f1fd330f910>"
      ]
     },
     "execution_count": 4,
     "metadata": {},
     "output_type": "execute_result"
    }
   ],
   "source": [
    "model.fit(X_train, y_train)"
   ]
  },
  {
   "cell_type": "code",
   "execution_count": 5,
   "id": "85949ca3",
   "metadata": {},
   "outputs": [],
   "source": [
    "pred, feature, feature_after_att = model.predict_proba(X_test)"
   ]
  },
  {
   "cell_type": "code",
   "execution_count": 6,
   "id": "0e2bf056",
   "metadata": {},
   "outputs": [
    {
     "name": "stdout",
     "output_type": "stream",
     "text": [
      "0.7501720798450482\n"
     ]
    }
   ],
   "source": [
    "print(sk_metrics.roc_auc_score(y_test, pred))"
   ]
  },
  {
   "cell_type": "code",
   "execution_count": 7,
   "id": "6bf2ab2e",
   "metadata": {},
   "outputs": [],
   "source": [
    "\n",
    "feature_after_att = feature_after_att.detach().numpy()\n",
    "pred = np.squeeze(pred).tolist()"
   ]
  },
  {
   "cell_type": "code",
   "execution_count": 8,
   "id": "37400396",
   "metadata": {},
   "outputs": [],
   "source": [
    "X_test=X_test[:, :, 0]"
   ]
  },
  {
   "cell_type": "code",
   "execution_count": 9,
   "id": "b99daa84",
   "metadata": {},
   "outputs": [
    {
     "data": {
      "text/plain": [
       "array([[28.,  3.,  1.,  0.,  1.,  0.],\n",
       "       [40.,  1.,  1., 15., 55.,  0.],\n",
       "       [31.,  1.,  1.,  0.,  0.,  0.],\n",
       "       ...,\n",
       "       [45.,  3.,  1.,  1.,  1.,  1.],\n",
       "       [25.,  3.,  1.,  3., 19.,  0.],\n",
       "       [34.,  3.,  1.,  1.,  3.,  0.]])"
      ]
     },
     "execution_count": 9,
     "metadata": {},
     "output_type": "execute_result"
    }
   ],
   "source": [
    "X_test"
   ]
  },
  {
   "cell_type": "code",
   "execution_count": 19,
   "id": "9a0b90f3",
   "metadata": {},
   "outputs": [
    {
     "data": {
      "text/plain": [
       "[<matplotlib.lines.Line2D at 0x7f1fad7432b0>]"
      ]
     },
     "execution_count": 19,
     "metadata": {},
     "output_type": "execute_result"
    },
    {
     "data": {
      "image/png": "[encoded data removed]",
      "text/plain": [
       "<Figure size 432x288 with 1 Axes>"
      ]
     },
     "metadata": {
      "needs_background": "light"
     },
     "output_type": "display_data"
    }
   ],
   "source": [
    "# age\n",
    "j = 0\n",
    "\n",
    "curr_data_list = []\n",
    "for i in range(len(X_test)):\n",
    "    curr_data_list.append(X_test[i][j])\n",
    "X = curr_data_list\n",
    "Y = pred\n",
    "Z = y_test.squeeze().tolist()\n",
    "df = pd.DataFrame(list(zip(X, Y, Z)),\n",
    "               columns =['val', 'pred', 'gt'])\n",
    "df\n",
    "averaged = df.groupby('val').mean()\n",
    "\n",
    "averaged['val'] = averaged.index\n",
    "X = averaged[\"val\"].tolist()\n",
    "Y = averaged[\"pred\"].tolist()\n",
    "Z = averaged[\"gt\"].tolist()\n",
    "plt.ylim([-0.5, 1.5])\n",
    "plt.plot(X, Y)\n",
    "plt.plot(X, Z)\n"
   ]
  },
  {
   "cell_type": "code",
   "execution_count": 20,
   "id": "739bf899",
   "metadata": {},
   "outputs": [
    {
     "data": {
      "text/plain": [
       "[<matplotlib.lines.Line2D at 0x7f1fad72aa00>]"
      ]
     },
     "execution_count": 20,
     "metadata": {},
     "output_type": "execute_result"
    },
    {
     "data": {
      "image/png": "[encoded data removed]",
      "text/plain": [
       "<Figure size 432x288 with 1 Axes>"
      ]
     },
     "metadata": {
      "needs_background": "light"
     },
     "output_type": "display_data"
    }
   ],
   "source": [
    "# race\n",
    "j = 1\n",
    "\n",
    "curr_data_list = []\n",
    "for i in range(len(X_test)):\n",
    "    curr_data_list.append(X_test[i][j])\n",
    "X = curr_data_list\n",
    "Y = pred\n",
    "Z = y_test.squeeze().tolist()\n",
    "df = pd.DataFrame(list(zip(X, Y, Z)),\n",
    "               columns =['val', 'pred', 'gt'])\n",
    "df\n",
    "averaged = df.groupby('val').mean()\n",
    "\n",
    "averaged['val'] = averaged.index\n",
    "X = averaged[\"val\"].tolist()\n",
    "Y = averaged[\"pred\"].tolist()\n",
    "Z = averaged[\"gt\"].tolist()\n",
    "plt.ylim([-0.5, 1.5])\n",
    "plt.plot(X, Y)\n",
    "plt.plot(X, Z)\n"
   ]
  },
  {
   "cell_type": "code",
   "execution_count": 21,
   "id": "1ebea202",
   "metadata": {},
   "outputs": [
    {
     "data": {
      "text/plain": [
       "[<matplotlib.lines.Line2D at 0x7f1fad6954c0>]"
      ]
     },
     "execution_count": 21,
     "metadata": {},
     "output_type": "execute_result"
    },
    {
     "data": {
      "image/png": "[encoded data removed]",
      "text/plain": [
       "<Figure size 432x288 with 1 Axes>"
      ]
     },
     "metadata": {
      "needs_background": "light"
     },
     "output_type": "display_data"
    }
   ],
   "source": [
    "# sex\n",
    "j = 2\n",
    "curr_data_list = []\n",
    "for i in range(len(X_test)):\n",
    "    curr_data_list.append(X_test[i][j])\n",
    "X = curr_data_list\n",
    "Y = pred\n",
    "Z = y_test.squeeze().tolist()\n",
    "df = pd.DataFrame(list(zip(X, Y, Z)),\n",
    "               columns =['val', 'pred', 'gt'])\n",
    "df\n",
    "averaged = df.groupby('val').mean()\n",
    "\n",
    "averaged['val'] = averaged.index\n",
    "X = averaged[\"val\"].tolist()\n",
    "Y = averaged[\"pred\"].tolist()\n",
    "Z = averaged[\"gt\"].tolist()\n",
    "plt.ylim([-0.5, 1.5])\n",
    "plt.plot(X, Y)\n",
    "plt.plot(X, Z)\n"
   ]
  },
  {
   "cell_type": "code",
   "execution_count": 22,
   "id": "8b8ce840",
   "metadata": {},
   "outputs": [
    {
     "data": {
      "text/plain": [
       "[<matplotlib.lines.Line2D at 0x7f1fad672f10>]"
      ]
     },
     "execution_count": 22,
     "metadata": {},
     "output_type": "execute_result"
    },
    {
     "data": {
      "image/png": "[encoded data removed]",
      "text/plain": [
       "<Figure size 432x288 with 1 Axes>"
      ]
     },
     "metadata": {
      "needs_background": "light"
     },
     "output_type": "display_data"
    }
   ],
   "source": [
    "# priors_count\n",
    "j = 3\n",
    "\n",
    "curr_data_list = []\n",
    "for i in range(len(X_test)):\n",
    "    curr_data_list.append(X_test[i][j])\n",
    "X = curr_data_list\n",
    "Y = pred\n",
    "Z = y_test.squeeze().tolist()\n",
    "df = pd.DataFrame(list(zip(X, Y, Z)),\n",
    "               columns =['val', 'pred', 'gt'])\n",
    "df\n",
    "averaged = df.groupby('val').mean()\n",
    "\n",
    "averaged['val'] = averaged.index\n",
    "X = averaged[\"val\"].tolist()\n",
    "Y = averaged[\"pred\"].tolist()\n",
    "Z = averaged[\"gt\"].tolist()\n",
    "plt.ylim([-0.5, 1.5])\n",
    "plt.plot(X, Y)\n",
    "plt.plot(X, Z)\n"
   ]
  },
  {
   "cell_type": "code",
   "execution_count": 23,
   "id": "e063be84",
   "metadata": {},
   "outputs": [
    {
     "data": {
      "text/plain": [
       "[<matplotlib.lines.Line2D at 0x7f1fad5d9e20>]"
      ]
     },
     "execution_count": 23,
     "metadata": {},
     "output_type": "execute_result"
    },
    {
     "data": {
      "image/png": "[encoded data removed]",
      "text/plain": [
       "<Figure size 432x288 with 1 Axes>"
      ]
     },
     "metadata": {
      "needs_background": "light"
     },
     "output_type": "display_data"
    }
   ],
   "source": [
    "# length_of_stay\n",
    "j = 4\n",
    "\n",
    "curr_data_list = []\n",
    "for i in range(len(X_test)):\n",
    "    curr_data_list.append(X_test[i][j])\n",
    "X = curr_data_list\n",
    "Y = pred\n",
    "Z = y_test.squeeze().tolist()\n",
    "df = pd.DataFrame(list(zip(X, Y, Z)),\n",
    "               columns =['val', 'pred', 'gt'])\n",
    "df = \n",
    "averaged = df.groupby('val').mean()\n",
    "\n",
    "averaged['val'] = averaged.index\n",
    "X = averaged[\"val\"].tolist()\n",
    "Y = averaged[\"pred\"].tolist()\n",
    "Z = averaged[\"gt\"].tolist()\n",
    "plt.ylim([-0.5, 1.5])\n",
    "plt.plot(X, Y)\n",
    "plt.plot(X, Z)\n"
   ]
  },
  {
   "cell_type": "code",
   "execution_count": 24,
   "id": "03fcf16d",
   "metadata": {},
   "outputs": [
    {
     "data": {
      "text/plain": [
       "[<matplotlib.lines.Line2D at 0x7f1fad542f10>]"
      ]
     },
     "execution_count": 24,
     "metadata": {},
     "output_type": "execute_result"
    },
    {
     "data": {
      "image/png": "[encoded data removed]",
      "text/plain": [
       "<Figure size 432x288 with 1 Axes>"
      ]
     },
     "metadata": {
      "needs_background": "light"
     },
     "output_type": "display_data"
    }
   ],
   "source": [
    "# c_charge_degree\n",
    "j = 5\n",
    "curr_data_list = []\n",
    "for i in range(len(X_test)):\n",
    "    curr_data_list.append(X_test[i][j])\n",
    "X = curr_data_list\n",
    "Y = pred\n",
    "Z = y_test.squeeze().tolist()\n",
    "df = pd.DataFrame(list(zip(X, Y, Z)),\n",
    "               columns =['val', 'pred', 'gt'])\n",
    "df\n",
    "averaged = df.groupby('val').mean()\n",
    "\n",
    "averaged['val'] = averaged.index\n",
    "X = averaged[\"val\"].tolist()\n",
    "Y = averaged[\"pred\"].tolist()\n",
    "Z = averaged[\"gt\"].tolist()\n",
    "plt.ylim([-0.5, 1.5])\n",
    "plt.plot(X, Y)\n",
    "plt.plot(X, Z)\n"
   ]
  },
  {
   "cell_type": "code",
   "execution_count": null,
   "id": "9b3508d2",
   "metadata": {},
   "outputs": [],
   "source": []
  }
 ],
 "metadata": {
  "kernelspec": {
   "display_name": "Python 3 (ipykernel)",
   "language": "python",
   "name": "python3"
  },
  "language_info": {
   "codemirror_mode": {
    "name": "ipython",
    "version": 3
   },
   "file_extension": ".py",
   "mimetype": "text/x-python",
   "name": "python",
   "nbconvert_exporter": "python",
   "pygments_lexer": "ipython3",
   "version": "3.8.15"
  }
 },
 "nbformat": 4,
 "nbformat_minor": 5
}
