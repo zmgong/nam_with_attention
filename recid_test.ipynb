{
 "cells": [
  {
   "cell_type": "code",
   "execution_count": 19,
   "id": "d4a0402d",
   "metadata": {},
   "outputs": [],
   "source": [
    "from time import time\n",
    "\n",
    "import numpy as np\n",
    "import pandas as pd\n",
    "import sklearn.metrics as sk_metrics\n",
    "import torch\n",
    "from sklearn.model_selection import train_test_split\n",
    "from sklearn.preprocessing import MinMaxScaler\n",
    "from sklearn.preprocessing import OneHotEncoder\n",
    "from torch.utils.data import random_split\n",
    "from matplotlib import pyplot as plt\n",
    "from nam.wrapper import NAMClassifier, MultiTaskNAMClassifier"
   ]
  },
  {
   "cell_type": "code",
   "execution_count": 20,
   "id": "3ab22761",
   "metadata": {},
   "outputs": [],
   "source": [
    "def make_gender_mtl_data(X, y):\n",
    "    y_male = y.copy()\n",
    "    y_male[X['sex'] == 1] = np.nan\n",
    "    y_female = y.copy()\n",
    "    y_female[X['sex'] == 0] = np.nan\n",
    "    return pd.concat([y_female, y_male], axis=1)\n",
    "\n",
    "def onehot_pos_embedding(x):\n",
    "    onehot = np.zeros((6, 6))\n",
    "    for i in range(6):\n",
    "        onehot[i, i] = 1\n",
    "    onehot = np.repeat(onehot[np.newaxis, :, :], x.shape[0], axis=0)\n",
    "    return np.concatenate((x[:, :, np.newaxis], onehot), axis=2)\n"
   ]
  },
  {
   "cell_type": "code",
   "execution_count": 21,
   "id": "9f2f2d10",
   "metadata": {},
   "outputs": [],
   "source": [
    "pre_train_path = None\n",
    "\n",
    "random_state = 2016\n",
    "dataset = pd.read_csv('nam/data/recid.data', delimiter=' ', header=None)\n",
    "dataset.columns = [\"age\", \"race\", \"sex\", \"priors_count\", \"length_of_stay\", \"c_charge_degree\", \"two_year_recid\"]\n",
    "binary = ['sex', 'c_charge_degree']\n",
    "other = ['age', 'race', 'priors_count', 'length_of_stay']\n",
    "# scaler = MinMaxScaler((-1, 1))\n",
    "# dataset[other] = scaler.fit_transform(dataset[other])\n",
    "dataset[binary] = dataset[binary] - 1\n",
    "\n",
    "X_data = dataset.drop(columns=['two_year_recid']).to_numpy()\n",
    "y_data = dataset['two_year_recid'].to_numpy().reshape(-1, 1)\n",
    "X_data = onehot_pos_embedding(X_data)\n",
    "X_train, X_test, y_train, y_test = train_test_split(X_data, y_data, train_size=0.8, test_size=0.2, random_state=random_state)\n",
    "\n",
    "#Single Task NAMs Classification\n",
    "s_time = time()\n",
    "model = NAMClassifier(\n",
    "    num_epochs=1000,\n",
    "    num_learners=20,\n",
    "    metric='auroc',\n",
    "    early_stop_mode='max',\n",
    "    monitor_loss=False,\n",
    "    n_jobs=10,\n",
    "    random_state=random_state,\n",
    "    device='cuda:0'\n",
    ")\n",
    "    "
   ]
  },
  {
   "cell_type": "code",
   "execution_count": 22,
   "id": "db6d0ace",
   "metadata": {
    "scrolled": true
   },
   "outputs": [
    {
     "name": "stdout",
     "output_type": "stream",
     "text": [
      "Format converting and model initializing are done.\n"
     ]
    },
    {
     "data": {
      "application/vnd.jupyter.widget-view+json": {
       "model_id": "aacabe2fde224b1a8515e28e6ff266ad",
       "version_major": 2,
       "version_minor": 0
      },
      "text/plain": [
       "  0%|          | 0/1000 [00:00<?, ?it/s]"
      ]
     },
     "metadata": {},
     "output_type": "display_data"
    },
    {
     "data": {
      "application/vnd.jupyter.widget-view+json": {
       "model_id": "5d83433e872d46508debeb2647af6dbc",
       "version_major": 2,
       "version_minor": 0
      },
      "text/plain": [
       "  0%|          | 0/1000 [00:00<?, ?it/s]"
      ]
     },
     "metadata": {},
     "output_type": "display_data"
    },
    {
     "data": {
      "application/vnd.jupyter.widget-view+json": {
       "model_id": "8e29ac89584042ea9c70f071bd477bd3",
       "version_major": 2,
       "version_minor": 0
      },
      "text/plain": [
       "  0%|          | 0/1000 [00:00<?, ?it/s]"
      ]
     },
     "metadata": {},
     "output_type": "display_data"
    },
    {
     "data": {
      "application/vnd.jupyter.widget-view+json": {
       "model_id": "84a7d861d48642fbbf8c098a9ebded2e",
       "version_major": 2,
       "version_minor": 0
      },
      "text/plain": [
       "  0%|          | 0/1000 [00:00<?, ?it/s]"
      ]
     },
     "metadata": {},
     "output_type": "display_data"
    },
    {
     "data": {
      "application/vnd.jupyter.widget-view+json": {
       "model_id": "29499ac9ead3457ea8bddb1178b73ccd",
       "version_major": 2,
       "version_minor": 0
      },
      "text/plain": [
       "  0%|          | 0/1000 [00:00<?, ?it/s]"
      ]
     },
     "metadata": {},
     "output_type": "display_data"
    },
    {
     "data": {
      "application/vnd.jupyter.widget-view+json": {
       "model_id": "fbd4162f8f5a434b806c4c5f3deb7565",
       "version_major": 2,
       "version_minor": 0
      },
      "text/plain": [
       "  0%|          | 0/1000 [00:00<?, ?it/s]"
      ]
     },
     "metadata": {},
     "output_type": "display_data"
    },
    {
     "data": {
      "application/vnd.jupyter.widget-view+json": {
       "model_id": "94906a7461cb4f7ca0f083df7c62b98d",
       "version_major": 2,
       "version_minor": 0
      },
      "text/plain": [
       "  0%|          | 0/1000 [00:00<?, ?it/s]"
      ]
     },
     "metadata": {},
     "output_type": "display_data"
    },
    {
     "data": {
      "application/vnd.jupyter.widget-view+json": {
       "model_id": "2e78293ffb384da6b72c9c56d49abb50",
       "version_major": 2,
       "version_minor": 0
      },
      "text/plain": [
       "  0%|          | 0/1000 [00:00<?, ?it/s]"
      ]
     },
     "metadata": {},
     "output_type": "display_data"
    },
    {
     "data": {
      "application/vnd.jupyter.widget-view+json": {
       "model_id": "998de03fe4854e2786de737aa045c283",
       "version_major": 2,
       "version_minor": 0
      },
      "text/plain": [
       "  0%|          | 0/1000 [00:00<?, ?it/s]"
      ]
     },
     "metadata": {},
     "output_type": "display_data"
    },
    {
     "data": {
      "application/vnd.jupyter.widget-view+json": {
       "model_id": "8b57492afcc648d986baffa3e4589bbd",
       "version_major": 2,
       "version_minor": 0
      },
      "text/plain": [
       "  0%|          | 0/1000 [00:00<?, ?it/s]"
      ]
     },
     "metadata": {},
     "output_type": "display_data"
    },
    {
     "data": {
      "application/vnd.jupyter.widget-view+json": {
       "model_id": "4bfff3527b574d44812b5727d0a91334",
       "version_major": 2,
       "version_minor": 0
      },
      "text/plain": [
       "  0%|          | 0/1000 [00:00<?, ?it/s]"
      ]
     },
     "metadata": {},
     "output_type": "display_data"
    },
    {
     "data": {
      "application/vnd.jupyter.widget-view+json": {
       "model_id": "9ac81467c45540a19944f0d10c51192d",
       "version_major": 2,
       "version_minor": 0
      },
      "text/plain": [
       "  0%|          | 0/1000 [00:00<?, ?it/s]"
      ]
     },
     "metadata": {},
     "output_type": "display_data"
    },
    {
     "data": {
      "application/vnd.jupyter.widget-view+json": {
       "model_id": "25cbb332331e48ab87d88b47b4555446",
       "version_major": 2,
       "version_minor": 0
      },
      "text/plain": [
       "  0%|          | 0/1000 [00:00<?, ?it/s]"
      ]
     },
     "metadata": {},
     "output_type": "display_data"
    },
    {
     "data": {
      "application/vnd.jupyter.widget-view+json": {
       "model_id": "e302c3417fd049999ad0f8423c70fb9b",
       "version_major": 2,
       "version_minor": 0
      },
      "text/plain": [
       "  0%|          | 0/1000 [00:00<?, ?it/s]"
      ]
     },
     "metadata": {},
     "output_type": "display_data"
    },
    {
     "data": {
      "application/vnd.jupyter.widget-view+json": {
       "model_id": "7c3304a8903146c798ce6a62b8122d1b",
       "version_major": 2,
       "version_minor": 0
      },
      "text/plain": [
       "  0%|          | 0/1000 [00:00<?, ?it/s]"
      ]
     },
     "metadata": {},
     "output_type": "display_data"
    },
    {
     "data": {
      "application/vnd.jupyter.widget-view+json": {
       "model_id": "a0a7f64b562548a3965959b3de333305",
       "version_major": 2,
       "version_minor": 0
      },
      "text/plain": [
       "  0%|          | 0/1000 [00:00<?, ?it/s]"
      ]
     },
     "metadata": {},
     "output_type": "display_data"
    },
    {
     "data": {
      "application/vnd.jupyter.widget-view+json": {
       "model_id": "cf3448a5dc80438b8d0662e337784136",
       "version_major": 2,
       "version_minor": 0
      },
      "text/plain": [
       "  0%|          | 0/1000 [00:00<?, ?it/s]"
      ]
     },
     "metadata": {},
     "output_type": "display_data"
    },
    {
     "data": {
      "application/vnd.jupyter.widget-view+json": {
       "model_id": "0c3e97883d6148cfa7d88640a364a29a",
       "version_major": 2,
       "version_minor": 0
      },
      "text/plain": [
       "  0%|          | 0/1000 [00:00<?, ?it/s]"
      ]
     },
     "metadata": {},
     "output_type": "display_data"
    },
    {
     "data": {
      "application/vnd.jupyter.widget-view+json": {
       "model_id": "0a24e86a3b244424b1e9dffc3f09e64d",
       "version_major": 2,
       "version_minor": 0
      },
      "text/plain": [
       "  0%|          | 0/1000 [00:00<?, ?it/s]"
      ]
     },
     "metadata": {},
     "output_type": "display_data"
    },
    {
     "data": {
      "application/vnd.jupyter.widget-view+json": {
       "model_id": "e89bca65e24d4a32baab7d796310fff2",
       "version_major": 2,
       "version_minor": 0
      },
      "text/plain": [
       "  0%|          | 0/1000 [00:00<?, ?it/s]"
      ]
     },
     "metadata": {},
     "output_type": "display_data"
    },
    {
     "data": {
      "text/plain": [
       "<nam.wrapper.wrapper.NAMClassifier at 0x7fd89639faf0>"
      ]
     },
     "execution_count": 22,
     "metadata": {},
     "output_type": "execute_result"
    }
   ],
   "source": [
    "model.fit(X_train, y_train)"
   ]
  },
  {
   "cell_type": "code",
   "execution_count": 23,
   "id": "85949ca3",
   "metadata": {},
   "outputs": [],
   "source": [
    "pred, feature, feature_after_att = model.predict_proba(X_test)"
   ]
  },
  {
   "cell_type": "code",
   "execution_count": 53,
   "id": "0e2bf056",
   "metadata": {},
   "outputs": [
    {
     "name": "stdout",
     "output_type": "stream",
     "text": [
      "0.7507056607599261\n"
     ]
    }
   ],
   "source": [
    "print(sk_metrics.roc_auc_score(y_test, pred))"
   ]
  },
  {
   "cell_type": "code",
   "execution_count": 24,
   "id": "6bf2ab2e",
   "metadata": {},
   "outputs": [],
   "source": [
    "\n",
    "feature_after_att = feature_after_att.detach().numpy()\n",
    "pred = np.squeeze(pred).tolist()"
   ]
  },
  {
   "cell_type": "code",
   "execution_count": 25,
   "id": "37400396",
   "metadata": {},
   "outputs": [],
   "source": [
    "X_test=X_test[:, :, 0]"
   ]
  },
  {
   "cell_type": "code",
   "execution_count": 26,
   "id": "b99daa84",
   "metadata": {},
   "outputs": [
    {
     "data": {
      "text/plain": [
       "array([[28.,  3.,  1.,  0.,  1.,  0.],\n",
       "       [40.,  1.,  1., 15., 55.,  0.],\n",
       "       [31.,  1.,  1.,  0.,  0.,  0.],\n",
       "       ...,\n",
       "       [45.,  3.,  1.,  1.,  1.,  1.],\n",
       "       [25.,  3.,  1.,  3., 19.,  0.],\n",
       "       [34.,  3.,  1.,  1.,  3.,  0.]])"
      ]
     },
     "execution_count": 26,
     "metadata": {},
     "output_type": "execute_result"
    }
   ],
   "source": [
    "X_test"
   ]
  },
  {
   "cell_type": "code",
   "execution_count": 44,
   "id": "9a0b90f3",
   "metadata": {},
   "outputs": [
    {
     "data": {
      "text/plain": [
       "[<matplotlib.lines.Line2D at 0x7fd7fd1737f0>]"
      ]
     },
     "execution_count": 44,
     "metadata": {},
     "output_type": "execute_result"
    },
    {
     "data": {
      "image/png": "[encoded data removed]",
      "text/plain": [
       "<Figure size 432x288 with 1 Axes>"
      ]
     },
     "metadata": {
      "needs_background": "light"
     },
     "output_type": "display_data"
    }
   ],
   "source": [
    "j = 0\n",
    "curr_data_list = []\n",
    "for i in range(len(X_test)):\n",
    "    curr_data_list.append(X_test[i][j])\n",
    "X = curr_data_list\n",
    "Y = pred\n",
    "df = pd.DataFrame(list(zip(X, Y)),\n",
    "               columns =['age', 'pred'])\n",
    "df\n",
    "averaged = df.groupby('age').mean()\n",
    "\n",
    "averaged['age'] = averaged.index\n",
    "X = averaged[\"age\"].tolist()\n",
    "Y = averaged[\"pred\"].tolist()\n",
    "plt.ylim([0, 1])\n",
    "plt.plot(X, Y)\n"
   ]
  },
  {
   "cell_type": "code",
   "execution_count": 45,
   "id": "739bf899",
   "metadata": {},
   "outputs": [
    {
     "data": {
      "text/plain": [
       "[<matplotlib.lines.Line2D at 0x7fd7fd0cfee0>]"
      ]
     },
     "execution_count": 45,
     "metadata": {},
     "output_type": "execute_result"
    },
    {
     "data": {
      "image/png": "[encoded data removed]",
      "text/plain": [
       "<Figure size 432x288 with 1 Axes>"
      ]
     },
     "metadata": {
      "needs_background": "light"
     },
     "output_type": "display_data"
    }
   ],
   "source": [
    "j = 1\n",
    "curr_data_list = []\n",
    "for i in range(len(X_test)):\n",
    "    curr_data_list.append(X_test[i][j])\n",
    "X = curr_data_list\n",
    "Y = pred\n",
    "df = pd.DataFrame(list(zip(X, Y)),\n",
    "               columns =['race', 'pred'])\n",
    "df\n",
    "averaged = df.groupby('race').mean()\n",
    "\n",
    "averaged['race'] = averaged.index\n",
    "X = averaged[\"race\"].tolist()\n",
    "Y = averaged[\"pred\"].tolist()\n",
    "plt.ylim([0, 1])\n",
    "plt.plot(X, Y)\n"
   ]
  },
  {
   "cell_type": "code",
   "execution_count": 46,
   "id": "1ebea202",
   "metadata": {},
   "outputs": [
    {
     "data": {
      "text/plain": [
       "[<matplotlib.lines.Line2D at 0x7fd7fd0acca0>]"
      ]
     },
     "execution_count": 46,
     "metadata": {},
     "output_type": "execute_result"
    },
    {
     "data": {
      "image/png": "[encoded data removed]",
      "text/plain": [
       "<Figure size 432x288 with 1 Axes>"
      ]
     },
     "metadata": {
      "needs_background": "light"
     },
     "output_type": "display_data"
    }
   ],
   "source": [
    "j = 2\n",
    "curr_data_list = []\n",
    "for i in range(len(X_test)):\n",
    "    curr_data_list.append(X_test[i][j])\n",
    "X = curr_data_list\n",
    "Y = pred\n",
    "df = pd.DataFrame(list(zip(X, Y)),\n",
    "               columns =['sex', 'pred'])\n",
    "df\n",
    "averaged = df.groupby('sex').mean()\n",
    "\n",
    "averaged['sex'] = averaged.index\n",
    "X = averaged[\"sex\"].tolist()\n",
    "Y = averaged[\"pred\"].tolist()\n",
    "plt.ylim([0, 1])\n",
    "plt.plot(X, Y)\n"
   ]
  },
  {
   "cell_type": "code",
   "execution_count": 48,
   "id": "8b8ce840",
   "metadata": {},
   "outputs": [
    {
     "data": {
      "text/plain": [
       "[<matplotlib.lines.Line2D at 0x7fd7fcff3580>]"
      ]
     },
     "execution_count": 48,
     "metadata": {},
     "output_type": "execute_result"
    },
    {
     "data": {
      "image/png": "[encoded data removed]",
      "text/plain": [
       "<Figure size 432x288 with 1 Axes>"
      ]
     },
     "metadata": {
      "needs_background": "light"
     },
     "output_type": "display_data"
    }
   ],
   "source": [
    "j = 3\n",
    "curr_data_list = []\n",
    "for i in range(len(X_test)):\n",
    "    curr_data_list.append(X_test[i][j])\n",
    "X = curr_data_list\n",
    "Y = pred\n",
    "df = pd.DataFrame(list(zip(X, Y)),\n",
    "               columns =['priors_count', 'pred'])\n",
    "df\n",
    "averaged = df.groupby('priors_count').mean()\n",
    "\n",
    "averaged['priors_count'] = averaged.index\n",
    "X = averaged[\"priors_count\"].tolist()\n",
    "Y = averaged[\"pred\"].tolist()\n",
    "plt.ylim([0, 1])\n",
    "plt.plot(X, Y)\n"
   ]
  },
  {
   "cell_type": "code",
   "execution_count": 49,
   "id": "e063be84",
   "metadata": {},
   "outputs": [
    {
     "data": {
      "text/plain": [
       "[<matplotlib.lines.Line2D at 0x7fd7fcf5a0a0>]"
      ]
     },
     "execution_count": 49,
     "metadata": {},
     "output_type": "execute_result"
    },
    {
     "data": {
      "image/png": "[encoded data removed]",
      "text/plain": [
       "<Figure size 432x288 with 1 Axes>"
      ]
     },
     "metadata": {
      "needs_background": "light"
     },
     "output_type": "display_data"
    }
   ],
   "source": [
    "j = 4\n",
    "curr_data_list = []\n",
    "for i in range(len(X_test)):\n",
    "    curr_data_list.append(X_test[i][j])\n",
    "X = curr_data_list\n",
    "Y = pred\n",
    "df = pd.DataFrame(list(zip(X, Y)),\n",
    "               columns =['length_of_stay', 'pred'])\n",
    "df\n",
    "averaged = df.groupby('length_of_stay').mean()\n",
    "\n",
    "averaged['length_of_stay'] = averaged.index\n",
    "X = averaged[\"length_of_stay\"].tolist()\n",
    "Y = averaged[\"pred\"].tolist()\n",
    "plt.ylim([0, 1])\n",
    "plt.plot(X, Y)\n"
   ]
  },
  {
   "cell_type": "code",
   "execution_count": 51,
   "id": "03fcf16d",
   "metadata": {},
   "outputs": [
    {
     "data": {
      "text/plain": [
       "[<matplotlib.lines.Line2D at 0x7fd7fce93850>]"
      ]
     },
     "execution_count": 51,
     "metadata": {},
     "output_type": "execute_result"
    },
    {
     "data": {
      "image/png": "[encoded data removed]",
      "text/plain": [
       "<Figure size 432x288 with 1 Axes>"
      ]
     },
     "metadata": {
      "needs_background": "light"
     },
     "output_type": "display_data"
    }
   ],
   "source": [
    "j = 5\n",
    "curr_data_list = []\n",
    "for i in range(len(X_test)):\n",
    "    curr_data_list.append(X_test[i][j])\n",
    "X = curr_data_list\n",
    "Y = pred\n",
    "df = pd.DataFrame(list(zip(X, Y)),\n",
    "               columns =['c_charge_degree', 'pred'])\n",
    "df\n",
    "averaged = df.groupby('c_charge_degree').mean()\n",
    "\n",
    "averaged['c_charge_degree'] = averaged.index\n",
    "X = averaged[\"c_charge_degree\"].tolist()\n",
    "Y = averaged[\"pred\"].tolist()\n",
    "plt.ylim([0, 1])\n",
    "plt.plot(X, Y)\n"
   ]
  }
 ],
 "metadata": {
  "kernelspec": {
   "display_name": "Python 3 (ipykernel)",
   "language": "python",
   "name": "python3"
  },
  "language_info": {
   "codemirror_mode": {
    "name": "ipython",
    "version": 3
   },
   "file_extension": ".py",
   "mimetype": "text/x-python",
   "name": "python",
   "nbconvert_exporter": "python",
   "pygments_lexer": "ipython3",
   "version": "3.8.15"
  }
 },
 "nbformat": 4,
 "nbformat_minor": 5
}
